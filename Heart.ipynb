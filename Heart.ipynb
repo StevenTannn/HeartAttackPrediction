{
 "cells": [
  {
   "cell_type": "markdown",
   "id": "2676f67d",
   "metadata": {},
   "source": [
    "# Heart Failure Detection\n",
    "\n",
    "## Sumber Dataset : https://www.kaggle.com/andrewmvd/heart-failure-clinical-data\n",
    "\n",
    "### Latar Belakang :\n",
    "Penyakit Jantung merupakan penyakit nomor 1 yang menyebabkan kematian secara global https://lifestyle.kompas.com/read/2020/12/14/101607520/penyakit-jantung-penyebab-kematian-utama-di-dunia?page=all, disebutkan bahwa perkiraan 17,9 juta orang meninggal setiap tahun dikarenakan penyakit jantung, yang dimana ini merupakan 31% dari kematian di seluruh dunia. Gagal Jantung merupakan salah satu jenis dari penyakit jantung yang dimana penyebab nya bisa banyak faktor dan di dataset ini mengunakan 12 faktor yang dapat memprediksi gagalnya jantung.\n",
    "\n",
    "Orang yang mempunyai penyakit jantung dan disertai penyakit pengikut lainnya seperti hypertensi, diabetes, anemia , dll. Mereka perlu untuk melakukan deteksi dini terhadap resiko terkenanya gagal jantung yang bisa menyebabkan kematian, sehingga dengan machine learning pendeteksian gagal jantung dapat terwujud dan dapat memberi prediksi agar penderita penyakit jantung dapat menjaga kesehatannya.\n",
    "\n",
    "### Dataset:\n",
    "Dataset ini memiliki 13 variabel diantaranya 12 variabel merupakan faktor penyebab , 1 variabel adalah hasil diagnosa apakah pasien tersebut meninggal atau tidak\n",
    "\n",
    "Variables in this dataset:\n",
    "##### Age: Age of the patient in years\n",
    "##### Anaemia: Decrease of red blood cells or hemoglobin (0:Reduced or 1:Normal)\n",
    "##### creatinine_phosphokinase: Level of the CPK enzyme in the blood (mcg/L)\n",
    "##### Diabetes: If the patient has diabetes (0:No or 1:Yes)\n",
    "##### ejection_fraction: Percentage of blood leaving the heart at each contraction (percentage)\n",
    "##### high_blood_pressure: If the patient has hypertension (0:No or 1:Yes)\n",
    "##### platelets: Platelets in the blood (kiloplatelets/mL)\n",
    "##### serum_creatinine: Level of serum creatinine in the blood (mg/dL)\n",
    "##### serum_sodium: Level of serum sodium in the blood (mEq/L)\n",
    "##### sex: Biological sex of the patient (0:Female or 1:Male)\n",
    "##### smoking: If the patient is a smoker (0:No or 1: Yes)\n",
    "##### time: Follow-up period in days\n",
    "##### death_event: If the patient survived till the end of follow-up period (0:No or 1:Yes )\n",
    "\n",
    "Penjelasan Variabel tersebut diambil dari : Davide Chicco, Giuseppe Jurman: Machine learning can predict survival of patients with heart failure from serum creatinine and ejection fraction alone. BMC Medical Informatics and Decision Making 20, 16 (2020)"
   ]
  },
  {
   "cell_type": "markdown",
   "id": "693d3557",
   "metadata": {},
   "source": [
    "### Melakukan Import Library yang diperlukan"
   ]
  },
  {
   "cell_type": "code",
   "execution_count": 1,
   "id": "4d8525b4",
   "metadata": {},
   "outputs": [],
   "source": [
    "import pandas as pd\n",
    "import numpy as np\n",
    "import matplotlib.pyplot as plt\n",
    "import seaborn as sns\n",
    "from sklearn.model_selection import train_test_split\n",
    "import joblib\n",
    "from sklearn.preprocessing import StandardScaler\n",
    "from sklearn.linear_model import LogisticRegression\n",
    "from sklearn.metrics import accuracy_score, plot_confusion_matrix, confusion_matrix, classification_report"
   ]
  },
  {
   "cell_type": "markdown",
   "id": "51ddea45",
   "metadata": {},
   "source": [
    "### Melakukan Import Dataset"
   ]
  },
  {
   "cell_type": "code",
   "execution_count": 2,
   "id": "13842054",
   "metadata": {},
   "outputs": [],
   "source": [
    "df = pd.read_csv('heart_failure_clinical_records_dataset.csv')"
   ]
  },
  {
   "cell_type": "markdown",
   "id": "d4412ceb",
   "metadata": {},
   "source": [
    "### Melakukan Data Analisis dan Visualisasi Data"
   ]
  },
  {
   "cell_type": "markdown",
   "id": "427e5da9",
   "metadata": {},
   "source": [
    "#### Mencetak 5 Data teratas"
   ]
  },
  {
   "cell_type": "code",
   "execution_count": 3,
   "id": "438db354",
   "metadata": {},
   "outputs": [
    {
     "data": {
      "text/html": [
       "<div>\n",
       "<style scoped>\n",
       "    .dataframe tbody tr th:only-of-type {\n",
       "        vertical-align: middle;\n",
       "    }\n",
       "\n",
       "    .dataframe tbody tr th {\n",
       "        vertical-align: top;\n",
       "    }\n",
       "\n",
       "    .dataframe thead th {\n",
       "        text-align: right;\n",
       "    }\n",
       "</style>\n",
       "<table border=\"1\" class=\"dataframe\">\n",
       "  <thead>\n",
       "    <tr style=\"text-align: right;\">\n",
       "      <th></th>\n",
       "      <th>age</th>\n",
       "      <th>anaemia</th>\n",
       "      <th>creatinine_phosphokinase</th>\n",
       "      <th>diabetes</th>\n",
       "      <th>ejection_fraction</th>\n",
       "      <th>high_blood_pressure</th>\n",
       "      <th>platelets</th>\n",
       "      <th>serum_creatinine</th>\n",
       "      <th>serum_sodium</th>\n",
       "      <th>sex</th>\n",
       "      <th>smoking</th>\n",
       "      <th>time</th>\n",
       "      <th>DEATH_EVENT</th>\n",
       "    </tr>\n",
       "  </thead>\n",
       "  <tbody>\n",
       "    <tr>\n",
       "      <th>0</th>\n",
       "      <td>75.0</td>\n",
       "      <td>0</td>\n",
       "      <td>582</td>\n",
       "      <td>0</td>\n",
       "      <td>20</td>\n",
       "      <td>1</td>\n",
       "      <td>265000.00</td>\n",
       "      <td>1.9</td>\n",
       "      <td>130</td>\n",
       "      <td>1</td>\n",
       "      <td>0</td>\n",
       "      <td>4</td>\n",
       "      <td>1</td>\n",
       "    </tr>\n",
       "    <tr>\n",
       "      <th>1</th>\n",
       "      <td>55.0</td>\n",
       "      <td>0</td>\n",
       "      <td>7861</td>\n",
       "      <td>0</td>\n",
       "      <td>38</td>\n",
       "      <td>0</td>\n",
       "      <td>263358.03</td>\n",
       "      <td>1.1</td>\n",
       "      <td>136</td>\n",
       "      <td>1</td>\n",
       "      <td>0</td>\n",
       "      <td>6</td>\n",
       "      <td>1</td>\n",
       "    </tr>\n",
       "    <tr>\n",
       "      <th>2</th>\n",
       "      <td>65.0</td>\n",
       "      <td>0</td>\n",
       "      <td>146</td>\n",
       "      <td>0</td>\n",
       "      <td>20</td>\n",
       "      <td>0</td>\n",
       "      <td>162000.00</td>\n",
       "      <td>1.3</td>\n",
       "      <td>129</td>\n",
       "      <td>1</td>\n",
       "      <td>1</td>\n",
       "      <td>7</td>\n",
       "      <td>1</td>\n",
       "    </tr>\n",
       "    <tr>\n",
       "      <th>3</th>\n",
       "      <td>50.0</td>\n",
       "      <td>1</td>\n",
       "      <td>111</td>\n",
       "      <td>0</td>\n",
       "      <td>20</td>\n",
       "      <td>0</td>\n",
       "      <td>210000.00</td>\n",
       "      <td>1.9</td>\n",
       "      <td>137</td>\n",
       "      <td>1</td>\n",
       "      <td>0</td>\n",
       "      <td>7</td>\n",
       "      <td>1</td>\n",
       "    </tr>\n",
       "    <tr>\n",
       "      <th>4</th>\n",
       "      <td>65.0</td>\n",
       "      <td>1</td>\n",
       "      <td>160</td>\n",
       "      <td>1</td>\n",
       "      <td>20</td>\n",
       "      <td>0</td>\n",
       "      <td>327000.00</td>\n",
       "      <td>2.7</td>\n",
       "      <td>116</td>\n",
       "      <td>0</td>\n",
       "      <td>0</td>\n",
       "      <td>8</td>\n",
       "      <td>1</td>\n",
       "    </tr>\n",
       "  </tbody>\n",
       "</table>\n",
       "</div>"
      ],
      "text/plain": [
       "    age  anaemia  creatinine_phosphokinase  diabetes  ejection_fraction  \\\n",
       "0  75.0        0                       582         0                 20   \n",
       "1  55.0        0                      7861         0                 38   \n",
       "2  65.0        0                       146         0                 20   \n",
       "3  50.0        1                       111         0                 20   \n",
       "4  65.0        1                       160         1                 20   \n",
       "\n",
       "   high_blood_pressure  platelets  serum_creatinine  serum_sodium  sex  \\\n",
       "0                    1  265000.00               1.9           130    1   \n",
       "1                    0  263358.03               1.1           136    1   \n",
       "2                    0  162000.00               1.3           129    1   \n",
       "3                    0  210000.00               1.9           137    1   \n",
       "4                    0  327000.00               2.7           116    0   \n",
       "\n",
       "   smoking  time  DEATH_EVENT  \n",
       "0        0     4            1  \n",
       "1        0     6            1  \n",
       "2        1     7            1  \n",
       "3        0     7            1  \n",
       "4        0     8            1  "
      ]
     },
     "execution_count": 3,
     "metadata": {},
     "output_type": "execute_result"
    }
   ],
   "source": [
    "df.head()"
   ]
  },
  {
   "cell_type": "markdown",
   "id": "83dc730a",
   "metadata": {},
   "source": [
    "#### Data terdiri dari 299 baris dan 13 kolum"
   ]
  },
  {
   "cell_type": "code",
   "execution_count": 4,
   "id": "2d57e239",
   "metadata": {},
   "outputs": [
    {
     "data": {
      "text/plain": [
       "(299, 13)"
      ]
     },
     "execution_count": 4,
     "metadata": {},
     "output_type": "execute_result"
    }
   ],
   "source": [
    "df.shape"
   ]
  },
  {
   "cell_type": "markdown",
   "id": "663030e8",
   "metadata": {},
   "source": [
    "#### Dataset tersebut memiliki 3 kolum yang berisi data float, dan 9 kolum berisi data interger"
   ]
  },
  {
   "cell_type": "code",
   "execution_count": 5,
   "id": "bb72005b",
   "metadata": {
    "scrolled": false
   },
   "outputs": [
    {
     "name": "stdout",
     "output_type": "stream",
     "text": [
      "<class 'pandas.core.frame.DataFrame'>\n",
      "RangeIndex: 299 entries, 0 to 298\n",
      "Data columns (total 13 columns):\n",
      " #   Column                    Non-Null Count  Dtype  \n",
      "---  ------                    --------------  -----  \n",
      " 0   age                       299 non-null    float64\n",
      " 1   anaemia                   299 non-null    int64  \n",
      " 2   creatinine_phosphokinase  299 non-null    int64  \n",
      " 3   diabetes                  299 non-null    int64  \n",
      " 4   ejection_fraction         299 non-null    int64  \n",
      " 5   high_blood_pressure       299 non-null    int64  \n",
      " 6   platelets                 299 non-null    float64\n",
      " 7   serum_creatinine          299 non-null    float64\n",
      " 8   serum_sodium              299 non-null    int64  \n",
      " 9   sex                       299 non-null    int64  \n",
      " 10  smoking                   299 non-null    int64  \n",
      " 11  time                      299 non-null    int64  \n",
      " 12  DEATH_EVENT               299 non-null    int64  \n",
      "dtypes: float64(3), int64(10)\n",
      "memory usage: 30.5 KB\n"
     ]
    }
   ],
   "source": [
    "df.info()"
   ]
  },
  {
   "cell_type": "markdown",
   "id": "9c071af4",
   "metadata": {},
   "source": [
    "#### Merubah nama kolum DEATH_EVENT menjadi death_event"
   ]
  },
  {
   "cell_type": "code",
   "execution_count": 6,
   "id": "b954e86f",
   "metadata": {},
   "outputs": [
    {
     "data": {
      "text/html": [
       "<div>\n",
       "<style scoped>\n",
       "    .dataframe tbody tr th:only-of-type {\n",
       "        vertical-align: middle;\n",
       "    }\n",
       "\n",
       "    .dataframe tbody tr th {\n",
       "        vertical-align: top;\n",
       "    }\n",
       "\n",
       "    .dataframe thead th {\n",
       "        text-align: right;\n",
       "    }\n",
       "</style>\n",
       "<table border=\"1\" class=\"dataframe\">\n",
       "  <thead>\n",
       "    <tr style=\"text-align: right;\">\n",
       "      <th></th>\n",
       "      <th>age</th>\n",
       "      <th>anaemia</th>\n",
       "      <th>creatinine_phosphokinase</th>\n",
       "      <th>diabetes</th>\n",
       "      <th>ejection_fraction</th>\n",
       "      <th>high_blood_pressure</th>\n",
       "      <th>platelets</th>\n",
       "      <th>serum_creatinine</th>\n",
       "      <th>serum_sodium</th>\n",
       "      <th>sex</th>\n",
       "      <th>smoking</th>\n",
       "      <th>time</th>\n",
       "      <th>death_event</th>\n",
       "    </tr>\n",
       "  </thead>\n",
       "  <tbody>\n",
       "    <tr>\n",
       "      <th>0</th>\n",
       "      <td>75.0</td>\n",
       "      <td>0</td>\n",
       "      <td>582</td>\n",
       "      <td>0</td>\n",
       "      <td>20</td>\n",
       "      <td>1</td>\n",
       "      <td>265000.00</td>\n",
       "      <td>1.9</td>\n",
       "      <td>130</td>\n",
       "      <td>1</td>\n",
       "      <td>0</td>\n",
       "      <td>4</td>\n",
       "      <td>1</td>\n",
       "    </tr>\n",
       "    <tr>\n",
       "      <th>1</th>\n",
       "      <td>55.0</td>\n",
       "      <td>0</td>\n",
       "      <td>7861</td>\n",
       "      <td>0</td>\n",
       "      <td>38</td>\n",
       "      <td>0</td>\n",
       "      <td>263358.03</td>\n",
       "      <td>1.1</td>\n",
       "      <td>136</td>\n",
       "      <td>1</td>\n",
       "      <td>0</td>\n",
       "      <td>6</td>\n",
       "      <td>1</td>\n",
       "    </tr>\n",
       "    <tr>\n",
       "      <th>2</th>\n",
       "      <td>65.0</td>\n",
       "      <td>0</td>\n",
       "      <td>146</td>\n",
       "      <td>0</td>\n",
       "      <td>20</td>\n",
       "      <td>0</td>\n",
       "      <td>162000.00</td>\n",
       "      <td>1.3</td>\n",
       "      <td>129</td>\n",
       "      <td>1</td>\n",
       "      <td>1</td>\n",
       "      <td>7</td>\n",
       "      <td>1</td>\n",
       "    </tr>\n",
       "    <tr>\n",
       "      <th>3</th>\n",
       "      <td>50.0</td>\n",
       "      <td>1</td>\n",
       "      <td>111</td>\n",
       "      <td>0</td>\n",
       "      <td>20</td>\n",
       "      <td>0</td>\n",
       "      <td>210000.00</td>\n",
       "      <td>1.9</td>\n",
       "      <td>137</td>\n",
       "      <td>1</td>\n",
       "      <td>0</td>\n",
       "      <td>7</td>\n",
       "      <td>1</td>\n",
       "    </tr>\n",
       "    <tr>\n",
       "      <th>4</th>\n",
       "      <td>65.0</td>\n",
       "      <td>1</td>\n",
       "      <td>160</td>\n",
       "      <td>1</td>\n",
       "      <td>20</td>\n",
       "      <td>0</td>\n",
       "      <td>327000.00</td>\n",
       "      <td>2.7</td>\n",
       "      <td>116</td>\n",
       "      <td>0</td>\n",
       "      <td>0</td>\n",
       "      <td>8</td>\n",
       "      <td>1</td>\n",
       "    </tr>\n",
       "  </tbody>\n",
       "</table>\n",
       "</div>"
      ],
      "text/plain": [
       "    age  anaemia  creatinine_phosphokinase  diabetes  ejection_fraction  \\\n",
       "0  75.0        0                       582         0                 20   \n",
       "1  55.0        0                      7861         0                 38   \n",
       "2  65.0        0                       146         0                 20   \n",
       "3  50.0        1                       111         0                 20   \n",
       "4  65.0        1                       160         1                 20   \n",
       "\n",
       "   high_blood_pressure  platelets  serum_creatinine  serum_sodium  sex  \\\n",
       "0                    1  265000.00               1.9           130    1   \n",
       "1                    0  263358.03               1.1           136    1   \n",
       "2                    0  162000.00               1.3           129    1   \n",
       "3                    0  210000.00               1.9           137    1   \n",
       "4                    0  327000.00               2.7           116    0   \n",
       "\n",
       "   smoking  time  death_event  \n",
       "0        0     4            1  \n",
       "1        0     6            1  \n",
       "2        1     7            1  \n",
       "3        0     7            1  \n",
       "4        0     8            1  "
      ]
     },
     "execution_count": 6,
     "metadata": {},
     "output_type": "execute_result"
    }
   ],
   "source": [
    "df.rename(columns={'DEATH_EVENT':'death_event'},inplace=True)\n",
    "df.head()"
   ]
  },
  {
   "cell_type": "markdown",
   "id": "026c0561",
   "metadata": {},
   "source": [
    "#### Melakukan pengecekan apakah ada data kosong pada dataset\n",
    "\n",
    "##### Hasil menunjukan bahwa tidak ada data kosong pada dataset"
   ]
  },
  {
   "cell_type": "code",
   "execution_count": 7,
   "id": "dab3fb6c",
   "metadata": {
    "scrolled": true
   },
   "outputs": [
    {
     "data": {
      "text/plain": [
       "age                         0\n",
       "anaemia                     0\n",
       "creatinine_phosphokinase    0\n",
       "diabetes                    0\n",
       "ejection_fraction           0\n",
       "high_blood_pressure         0\n",
       "platelets                   0\n",
       "serum_creatinine            0\n",
       "serum_sodium                0\n",
       "sex                         0\n",
       "smoking                     0\n",
       "time                        0\n",
       "death_event                 0\n",
       "dtype: int64"
      ]
     },
     "execution_count": 7,
     "metadata": {},
     "output_type": "execute_result"
    }
   ],
   "source": [
    "df.isnull().sum()"
   ]
  },
  {
   "cell_type": "markdown",
   "id": "f632e881",
   "metadata": {},
   "source": [
    "#### Mengecek distribusi data"
   ]
  },
  {
   "cell_type": "code",
   "execution_count": 8,
   "id": "329d60df",
   "metadata": {},
   "outputs": [
    {
     "data": {
      "text/html": [
       "<div>\n",
       "<style scoped>\n",
       "    .dataframe tbody tr th:only-of-type {\n",
       "        vertical-align: middle;\n",
       "    }\n",
       "\n",
       "    .dataframe tbody tr th {\n",
       "        vertical-align: top;\n",
       "    }\n",
       "\n",
       "    .dataframe thead th {\n",
       "        text-align: right;\n",
       "    }\n",
       "</style>\n",
       "<table border=\"1\" class=\"dataframe\">\n",
       "  <thead>\n",
       "    <tr style=\"text-align: right;\">\n",
       "      <th></th>\n",
       "      <th>age</th>\n",
       "      <th>anaemia</th>\n",
       "      <th>creatinine_phosphokinase</th>\n",
       "      <th>diabetes</th>\n",
       "      <th>ejection_fraction</th>\n",
       "      <th>high_blood_pressure</th>\n",
       "      <th>platelets</th>\n",
       "      <th>serum_creatinine</th>\n",
       "      <th>serum_sodium</th>\n",
       "      <th>sex</th>\n",
       "      <th>smoking</th>\n",
       "      <th>time</th>\n",
       "      <th>death_event</th>\n",
       "    </tr>\n",
       "  </thead>\n",
       "  <tbody>\n",
       "    <tr>\n",
       "      <th>count</th>\n",
       "      <td>299.000000</td>\n",
       "      <td>299.000000</td>\n",
       "      <td>299.000000</td>\n",
       "      <td>299.000000</td>\n",
       "      <td>299.000000</td>\n",
       "      <td>299.000000</td>\n",
       "      <td>299.000000</td>\n",
       "      <td>299.00000</td>\n",
       "      <td>299.000000</td>\n",
       "      <td>299.000000</td>\n",
       "      <td>299.00000</td>\n",
       "      <td>299.000000</td>\n",
       "      <td>299.00000</td>\n",
       "    </tr>\n",
       "    <tr>\n",
       "      <th>mean</th>\n",
       "      <td>60.833893</td>\n",
       "      <td>0.431438</td>\n",
       "      <td>581.839465</td>\n",
       "      <td>0.418060</td>\n",
       "      <td>38.083612</td>\n",
       "      <td>0.351171</td>\n",
       "      <td>263358.029264</td>\n",
       "      <td>1.39388</td>\n",
       "      <td>136.625418</td>\n",
       "      <td>0.648829</td>\n",
       "      <td>0.32107</td>\n",
       "      <td>130.260870</td>\n",
       "      <td>0.32107</td>\n",
       "    </tr>\n",
       "    <tr>\n",
       "      <th>std</th>\n",
       "      <td>11.894809</td>\n",
       "      <td>0.496107</td>\n",
       "      <td>970.287881</td>\n",
       "      <td>0.494067</td>\n",
       "      <td>11.834841</td>\n",
       "      <td>0.478136</td>\n",
       "      <td>97804.236869</td>\n",
       "      <td>1.03451</td>\n",
       "      <td>4.412477</td>\n",
       "      <td>0.478136</td>\n",
       "      <td>0.46767</td>\n",
       "      <td>77.614208</td>\n",
       "      <td>0.46767</td>\n",
       "    </tr>\n",
       "    <tr>\n",
       "      <th>min</th>\n",
       "      <td>40.000000</td>\n",
       "      <td>0.000000</td>\n",
       "      <td>23.000000</td>\n",
       "      <td>0.000000</td>\n",
       "      <td>14.000000</td>\n",
       "      <td>0.000000</td>\n",
       "      <td>25100.000000</td>\n",
       "      <td>0.50000</td>\n",
       "      <td>113.000000</td>\n",
       "      <td>0.000000</td>\n",
       "      <td>0.00000</td>\n",
       "      <td>4.000000</td>\n",
       "      <td>0.00000</td>\n",
       "    </tr>\n",
       "    <tr>\n",
       "      <th>25%</th>\n",
       "      <td>51.000000</td>\n",
       "      <td>0.000000</td>\n",
       "      <td>116.500000</td>\n",
       "      <td>0.000000</td>\n",
       "      <td>30.000000</td>\n",
       "      <td>0.000000</td>\n",
       "      <td>212500.000000</td>\n",
       "      <td>0.90000</td>\n",
       "      <td>134.000000</td>\n",
       "      <td>0.000000</td>\n",
       "      <td>0.00000</td>\n",
       "      <td>73.000000</td>\n",
       "      <td>0.00000</td>\n",
       "    </tr>\n",
       "    <tr>\n",
       "      <th>50%</th>\n",
       "      <td>60.000000</td>\n",
       "      <td>0.000000</td>\n",
       "      <td>250.000000</td>\n",
       "      <td>0.000000</td>\n",
       "      <td>38.000000</td>\n",
       "      <td>0.000000</td>\n",
       "      <td>262000.000000</td>\n",
       "      <td>1.10000</td>\n",
       "      <td>137.000000</td>\n",
       "      <td>1.000000</td>\n",
       "      <td>0.00000</td>\n",
       "      <td>115.000000</td>\n",
       "      <td>0.00000</td>\n",
       "    </tr>\n",
       "    <tr>\n",
       "      <th>75%</th>\n",
       "      <td>70.000000</td>\n",
       "      <td>1.000000</td>\n",
       "      <td>582.000000</td>\n",
       "      <td>1.000000</td>\n",
       "      <td>45.000000</td>\n",
       "      <td>1.000000</td>\n",
       "      <td>303500.000000</td>\n",
       "      <td>1.40000</td>\n",
       "      <td>140.000000</td>\n",
       "      <td>1.000000</td>\n",
       "      <td>1.00000</td>\n",
       "      <td>203.000000</td>\n",
       "      <td>1.00000</td>\n",
       "    </tr>\n",
       "    <tr>\n",
       "      <th>max</th>\n",
       "      <td>95.000000</td>\n",
       "      <td>1.000000</td>\n",
       "      <td>7861.000000</td>\n",
       "      <td>1.000000</td>\n",
       "      <td>80.000000</td>\n",
       "      <td>1.000000</td>\n",
       "      <td>850000.000000</td>\n",
       "      <td>9.40000</td>\n",
       "      <td>148.000000</td>\n",
       "      <td>1.000000</td>\n",
       "      <td>1.00000</td>\n",
       "      <td>285.000000</td>\n",
       "      <td>1.00000</td>\n",
       "    </tr>\n",
       "  </tbody>\n",
       "</table>\n",
       "</div>"
      ],
      "text/plain": [
       "              age     anaemia  creatinine_phosphokinase    diabetes  \\\n",
       "count  299.000000  299.000000                299.000000  299.000000   \n",
       "mean    60.833893    0.431438                581.839465    0.418060   \n",
       "std     11.894809    0.496107                970.287881    0.494067   \n",
       "min     40.000000    0.000000                 23.000000    0.000000   \n",
       "25%     51.000000    0.000000                116.500000    0.000000   \n",
       "50%     60.000000    0.000000                250.000000    0.000000   \n",
       "75%     70.000000    1.000000                582.000000    1.000000   \n",
       "max     95.000000    1.000000               7861.000000    1.000000   \n",
       "\n",
       "       ejection_fraction  high_blood_pressure      platelets  \\\n",
       "count         299.000000           299.000000     299.000000   \n",
       "mean           38.083612             0.351171  263358.029264   \n",
       "std            11.834841             0.478136   97804.236869   \n",
       "min            14.000000             0.000000   25100.000000   \n",
       "25%            30.000000             0.000000  212500.000000   \n",
       "50%            38.000000             0.000000  262000.000000   \n",
       "75%            45.000000             1.000000  303500.000000   \n",
       "max            80.000000             1.000000  850000.000000   \n",
       "\n",
       "       serum_creatinine  serum_sodium         sex    smoking        time  \\\n",
       "count         299.00000    299.000000  299.000000  299.00000  299.000000   \n",
       "mean            1.39388    136.625418    0.648829    0.32107  130.260870   \n",
       "std             1.03451      4.412477    0.478136    0.46767   77.614208   \n",
       "min             0.50000    113.000000    0.000000    0.00000    4.000000   \n",
       "25%             0.90000    134.000000    0.000000    0.00000   73.000000   \n",
       "50%             1.10000    137.000000    1.000000    0.00000  115.000000   \n",
       "75%             1.40000    140.000000    1.000000    1.00000  203.000000   \n",
       "max             9.40000    148.000000    1.000000    1.00000  285.000000   \n",
       "\n",
       "       death_event  \n",
       "count    299.00000  \n",
       "mean       0.32107  \n",
       "std        0.46767  \n",
       "min        0.00000  \n",
       "25%        0.00000  \n",
       "50%        0.00000  \n",
       "75%        1.00000  \n",
       "max        1.00000  "
      ]
     },
     "execution_count": 8,
     "metadata": {},
     "output_type": "execute_result"
    }
   ],
   "source": [
    "df.describe()"
   ]
  },
  {
   "cell_type": "markdown",
   "id": "91b07dfa",
   "metadata": {},
   "source": [
    "#### Mencetak 10 sample acak dari dataset"
   ]
  },
  {
   "cell_type": "code",
   "execution_count": 9,
   "id": "f39c27a4",
   "metadata": {
    "scrolled": false
   },
   "outputs": [
    {
     "data": {
      "text/html": [
       "<div>\n",
       "<style scoped>\n",
       "    .dataframe tbody tr th:only-of-type {\n",
       "        vertical-align: middle;\n",
       "    }\n",
       "\n",
       "    .dataframe tbody tr th {\n",
       "        vertical-align: top;\n",
       "    }\n",
       "\n",
       "    .dataframe thead th {\n",
       "        text-align: right;\n",
       "    }\n",
       "</style>\n",
       "<table border=\"1\" class=\"dataframe\">\n",
       "  <thead>\n",
       "    <tr style=\"text-align: right;\">\n",
       "      <th></th>\n",
       "      <th>age</th>\n",
       "      <th>anaemia</th>\n",
       "      <th>creatinine_phosphokinase</th>\n",
       "      <th>diabetes</th>\n",
       "      <th>ejection_fraction</th>\n",
       "      <th>high_blood_pressure</th>\n",
       "      <th>platelets</th>\n",
       "      <th>serum_creatinine</th>\n",
       "      <th>serum_sodium</th>\n",
       "      <th>sex</th>\n",
       "      <th>smoking</th>\n",
       "      <th>time</th>\n",
       "      <th>death_event</th>\n",
       "    </tr>\n",
       "  </thead>\n",
       "  <tbody>\n",
       "    <tr>\n",
       "      <th>114</th>\n",
       "      <td>60.0</td>\n",
       "      <td>1</td>\n",
       "      <td>754</td>\n",
       "      <td>1</td>\n",
       "      <td>40</td>\n",
       "      <td>1</td>\n",
       "      <td>328000.0</td>\n",
       "      <td>1.2</td>\n",
       "      <td>126</td>\n",
       "      <td>1</td>\n",
       "      <td>0</td>\n",
       "      <td>91</td>\n",
       "      <td>0</td>\n",
       "    </tr>\n",
       "    <tr>\n",
       "      <th>110</th>\n",
       "      <td>85.0</td>\n",
       "      <td>0</td>\n",
       "      <td>129</td>\n",
       "      <td>0</td>\n",
       "      <td>60</td>\n",
       "      <td>0</td>\n",
       "      <td>306000.0</td>\n",
       "      <td>1.2</td>\n",
       "      <td>132</td>\n",
       "      <td>1</td>\n",
       "      <td>1</td>\n",
       "      <td>90</td>\n",
       "      <td>1</td>\n",
       "    </tr>\n",
       "    <tr>\n",
       "      <th>36</th>\n",
       "      <td>90.0</td>\n",
       "      <td>1</td>\n",
       "      <td>60</td>\n",
       "      <td>1</td>\n",
       "      <td>50</td>\n",
       "      <td>0</td>\n",
       "      <td>226000.0</td>\n",
       "      <td>1.0</td>\n",
       "      <td>134</td>\n",
       "      <td>1</td>\n",
       "      <td>0</td>\n",
       "      <td>30</td>\n",
       "      <td>1</td>\n",
       "    </tr>\n",
       "    <tr>\n",
       "      <th>26</th>\n",
       "      <td>95.0</td>\n",
       "      <td>1</td>\n",
       "      <td>112</td>\n",
       "      <td>0</td>\n",
       "      <td>40</td>\n",
       "      <td>1</td>\n",
       "      <td>196000.0</td>\n",
       "      <td>1.0</td>\n",
       "      <td>138</td>\n",
       "      <td>0</td>\n",
       "      <td>0</td>\n",
       "      <td>24</td>\n",
       "      <td>1</td>\n",
       "    </tr>\n",
       "    <tr>\n",
       "      <th>44</th>\n",
       "      <td>60.0</td>\n",
       "      <td>1</td>\n",
       "      <td>588</td>\n",
       "      <td>1</td>\n",
       "      <td>60</td>\n",
       "      <td>0</td>\n",
       "      <td>194000.0</td>\n",
       "      <td>1.1</td>\n",
       "      <td>142</td>\n",
       "      <td>0</td>\n",
       "      <td>0</td>\n",
       "      <td>33</td>\n",
       "      <td>1</td>\n",
       "    </tr>\n",
       "    <tr>\n",
       "      <th>5</th>\n",
       "      <td>90.0</td>\n",
       "      <td>1</td>\n",
       "      <td>47</td>\n",
       "      <td>0</td>\n",
       "      <td>40</td>\n",
       "      <td>1</td>\n",
       "      <td>204000.0</td>\n",
       "      <td>2.1</td>\n",
       "      <td>132</td>\n",
       "      <td>1</td>\n",
       "      <td>1</td>\n",
       "      <td>8</td>\n",
       "      <td>1</td>\n",
       "    </tr>\n",
       "    <tr>\n",
       "      <th>201</th>\n",
       "      <td>45.0</td>\n",
       "      <td>0</td>\n",
       "      <td>308</td>\n",
       "      <td>1</td>\n",
       "      <td>60</td>\n",
       "      <td>1</td>\n",
       "      <td>377000.0</td>\n",
       "      <td>1.0</td>\n",
       "      <td>136</td>\n",
       "      <td>1</td>\n",
       "      <td>0</td>\n",
       "      <td>186</td>\n",
       "      <td>0</td>\n",
       "    </tr>\n",
       "    <tr>\n",
       "      <th>191</th>\n",
       "      <td>64.0</td>\n",
       "      <td>1</td>\n",
       "      <td>62</td>\n",
       "      <td>0</td>\n",
       "      <td>60</td>\n",
       "      <td>0</td>\n",
       "      <td>309000.0</td>\n",
       "      <td>1.5</td>\n",
       "      <td>135</td>\n",
       "      <td>0</td>\n",
       "      <td>0</td>\n",
       "      <td>174</td>\n",
       "      <td>0</td>\n",
       "    </tr>\n",
       "    <tr>\n",
       "      <th>297</th>\n",
       "      <td>45.0</td>\n",
       "      <td>0</td>\n",
       "      <td>2413</td>\n",
       "      <td>0</td>\n",
       "      <td>38</td>\n",
       "      <td>0</td>\n",
       "      <td>140000.0</td>\n",
       "      <td>1.4</td>\n",
       "      <td>140</td>\n",
       "      <td>1</td>\n",
       "      <td>1</td>\n",
       "      <td>280</td>\n",
       "      <td>0</td>\n",
       "    </tr>\n",
       "    <tr>\n",
       "      <th>172</th>\n",
       "      <td>70.0</td>\n",
       "      <td>1</td>\n",
       "      <td>171</td>\n",
       "      <td>0</td>\n",
       "      <td>60</td>\n",
       "      <td>1</td>\n",
       "      <td>176000.0</td>\n",
       "      <td>1.1</td>\n",
       "      <td>145</td>\n",
       "      <td>1</td>\n",
       "      <td>1</td>\n",
       "      <td>146</td>\n",
       "      <td>0</td>\n",
       "    </tr>\n",
       "  </tbody>\n",
       "</table>\n",
       "</div>"
      ],
      "text/plain": [
       "      age  anaemia  creatinine_phosphokinase  diabetes  ejection_fraction  \\\n",
       "114  60.0        1                       754         1                 40   \n",
       "110  85.0        0                       129         0                 60   \n",
       "36   90.0        1                        60         1                 50   \n",
       "26   95.0        1                       112         0                 40   \n",
       "44   60.0        1                       588         1                 60   \n",
       "5    90.0        1                        47         0                 40   \n",
       "201  45.0        0                       308         1                 60   \n",
       "191  64.0        1                        62         0                 60   \n",
       "297  45.0        0                      2413         0                 38   \n",
       "172  70.0        1                       171         0                 60   \n",
       "\n",
       "     high_blood_pressure  platelets  serum_creatinine  serum_sodium  sex  \\\n",
       "114                    1   328000.0               1.2           126    1   \n",
       "110                    0   306000.0               1.2           132    1   \n",
       "36                     0   226000.0               1.0           134    1   \n",
       "26                     1   196000.0               1.0           138    0   \n",
       "44                     0   194000.0               1.1           142    0   \n",
       "5                      1   204000.0               2.1           132    1   \n",
       "201                    1   377000.0               1.0           136    1   \n",
       "191                    0   309000.0               1.5           135    0   \n",
       "297                    0   140000.0               1.4           140    1   \n",
       "172                    1   176000.0               1.1           145    1   \n",
       "\n",
       "     smoking  time  death_event  \n",
       "114        0    91            0  \n",
       "110        1    90            1  \n",
       "36         0    30            1  \n",
       "26         0    24            1  \n",
       "44         0    33            1  \n",
       "5          1     8            1  \n",
       "201        0   186            0  \n",
       "191        0   174            0  \n",
       "297        1   280            0  \n",
       "172        1   146            0  "
      ]
     },
     "execution_count": 9,
     "metadata": {},
     "output_type": "execute_result"
    }
   ],
   "source": [
    "df.sample(10)"
   ]
  },
  {
   "cell_type": "markdown",
   "id": "9821be33",
   "metadata": {},
   "source": [
    "#### Menampilkan nilai unique dari masing\" kolum di dalam dataset\n",
    "\n",
    "#### Bisa dilihat bahwa untuk umur, creatinine_phosphokinase, platelets, time memiliki paling banyak nilai unique dan anaemia, diabetes, high_blood_pressure, sex, smoking, death_event mempunyai 2 nilai unique yaitu 0 atau 1 jadi Ya atau tidak saja"
   ]
  },
  {
   "cell_type": "code",
   "execution_count": 10,
   "id": "57af58c8",
   "metadata": {},
   "outputs": [
    {
     "name": "stdout",
     "output_type": "stream",
     "text": [
      "age 47\n",
      "anaemia 2\n",
      "creatinine_phosphokinase 208\n",
      "diabetes 2\n",
      "ejection_fraction 17\n",
      "high_blood_pressure 2\n",
      "platelets 176\n",
      "serum_creatinine 40\n",
      "serum_sodium 27\n",
      "sex 2\n",
      "smoking 2\n",
      "time 148\n",
      "death_event 2\n"
     ]
    }
   ],
   "source": [
    "for i in df.columns:\n",
    "  print(i,df[i].nunique())"
   ]
  },
  {
   "cell_type": "markdown",
   "id": "55b85612",
   "metadata": {},
   "source": [
    "#### Dataset yang diberikan tersebut bersifat imbalanced dimana kita bisa lihat bahwa salah satu data masih lebih banyak dari data lain. Disini bisa dilihat bahwa dari dataset tersebut jumlah kematian mencapai 96 pasien dan pasien tidak meninggal adalah 203 pasien. Sehingga di dataset tersebut kebanyakan pasien tidak meninggal dibandingkan meninggal."
   ]
  },
  {
   "cell_type": "code",
   "execution_count": 11,
   "id": "7f93c294",
   "metadata": {
    "scrolled": true
   },
   "outputs": [
    {
     "data": {
      "text/plain": [
       "0    203\n",
       "1     96\n",
       "Name: death_event, dtype: int64"
      ]
     },
     "execution_count": 11,
     "metadata": {},
     "output_type": "execute_result"
    },
    {
     "data": {
      "image/png": "[encoded data removed]",
      "text/plain": [
       "<Figure size 432x288 with 1 Axes>"
      ]
     },
     "metadata": {
      "needs_background": "light"
     },
     "output_type": "display_data"
    }
   ],
   "source": [
    "sns.countplot(x= df[\"death_event\"])\n",
    "df[\"death_event\"].value_counts()"
   ]
  },
  {
   "cell_type": "markdown",
   "id": "ddbfc63b",
   "metadata": {},
   "source": [
    "#### Jumlah yang merokok di dalam dataset tersebut adalah sebanyak 96 pasien dan 203 lainnya tidak merokok"
   ]
  },
  {
   "cell_type": "code",
   "execution_count": 12,
   "id": "30e88c94",
   "metadata": {
    "scrolled": true
   },
   "outputs": [
    {
     "data": {
      "text/plain": [
       "0    203\n",
       "1     96\n",
       "Name: smoking, dtype: int64"
      ]
     },
     "execution_count": 12,
     "metadata": {},
     "output_type": "execute_result"
    },
    {
     "data": {
      "image/png": "[encoded data removed]",
      "text/plain": [
       "<Figure size 432x288 with 1 Axes>"
      ]
     },
     "metadata": {
      "needs_background": "light"
     },
     "output_type": "display_data"
    }
   ],
   "source": [
    "sns.countplot(x= df[\"smoking\"])\n",
    "df[\"smoking\"].value_counts()"
   ]
  },
  {
   "cell_type": "markdown",
   "id": "5d1505a7",
   "metadata": {},
   "source": [
    "#### Disini kita bisa lihat bahwa orang yang tidak merokok malah memiliki tingkat kematian lebih tinggi dari pada orang yang tidak merokok."
   ]
  },
  {
   "cell_type": "code",
   "execution_count": 13,
   "id": "bef56df6",
   "metadata": {
    "scrolled": true
   },
   "outputs": [
    {
     "data": {
      "image/png": "[encoded data removed]",
      "text/plain": [
       "<Figure size 432x288 with 1 Axes>"
      ]
     },
     "metadata": {
      "needs_background": "light"
     },
     "output_type": "display_data"
    }
   ],
   "source": [
    "sns.countplot(x= df[\"smoking\"],hue=df[\"death_event\"])\n",
    "plt.title('Angka Kematian Berdasarkan Adanya Merokok atau Tidak')\n",
    "plt.xlabel('Smoking')\n",
    "plt.ylabel('Death')\n",
    "plt.show()"
   ]
  },
  {
   "cell_type": "markdown",
   "id": "0268cbcb",
   "metadata": {},
   "source": [
    "#### Data tersebut menunjukan bahwa pasien yang tidak memiliki anaemia sebanyak 170 pasien dan sisanya 129 memiliki penyakit anaemia"
   ]
  },
  {
   "cell_type": "code",
   "execution_count": 14,
   "id": "57402fd4",
   "metadata": {
    "scrolled": true
   },
   "outputs": [
    {
     "data": {
      "text/plain": [
       "0    170\n",
       "1    129\n",
       "Name: anaemia, dtype: int64"
      ]
     },
     "execution_count": 14,
     "metadata": {},
     "output_type": "execute_result"
    },
    {
     "data": {
      "image/png": "[encoded data removed]",
      "text/plain": [
       "<Figure size 432x288 with 1 Axes>"
      ]
     },
     "metadata": {
      "needs_background": "light"
     },
     "output_type": "display_data"
    }
   ],
   "source": [
    "sns.countplot(x= df[\"anaemia\"])\n",
    "df[\"anaemia\"].value_counts()"
   ]
  },
  {
   "cell_type": "markdown",
   "id": "79c29124",
   "metadata": {},
   "source": [
    "#### Disini kita bisa lihat bahwa pasien yang memiliki anemia dan tidak memiliki anemia memiliki angka kematian yang hampir sama"
   ]
  },
  {
   "cell_type": "code",
   "execution_count": 15,
   "id": "0e62d851",
   "metadata": {},
   "outputs": [
    {
     "data": {
      "image/png": "[encoded data removed]",
      "text/plain": [
       "<Figure size 432x288 with 1 Axes>"
      ]
     },
     "metadata": {
      "needs_background": "light"
     },
     "output_type": "display_data"
    }
   ],
   "source": [
    "sns.countplot(x= df[\"anaemia\"],hue=df[\"death_event\"])\n",
    "plt.title('Angka Kematian Berdasarkan Adanya Anemia atau tidak')\n",
    "plt.xlabel('Anaemia')\n",
    "plt.ylabel('Death')\n",
    "plt.show()"
   ]
  },
  {
   "cell_type": "markdown",
   "id": "339340ac",
   "metadata": {},
   "source": [
    "#### Data tersebut menunjukan bahwa pasien yang memiliki penyakit diabetes adalah sebanyak 125 pasien dan sisanya 174 pasien tidak memiliki penyakit diabetes"
   ]
  },
  {
   "cell_type": "code",
   "execution_count": 16,
   "id": "e543fa7e",
   "metadata": {
    "scrolled": true
   },
   "outputs": [
    {
     "data": {
      "text/plain": [
       "0    174\n",
       "1    125\n",
       "Name: diabetes, dtype: int64"
      ]
     },
     "execution_count": 16,
     "metadata": {},
     "output_type": "execute_result"
    },
    {
     "data": {
      "image/png": "[encoded data removed]",
      "text/plain": [
       "<Figure size 432x288 with 1 Axes>"
      ]
     },
     "metadata": {
      "needs_background": "light"
     },
     "output_type": "display_data"
    }
   ],
   "source": [
    "sns.countplot(x= df[\"diabetes\"])\n",
    "df[\"diabetes\"].value_counts()"
   ]
  },
  {
   "cell_type": "markdown",
   "id": "34cf5576",
   "metadata": {},
   "source": [
    "#### Disini menunjukan bahwa angka kematian dikarenakan tidak adanya penyakit diabetes lebih tinggi dibandingkan dengan adanya penyakit diabetes"
   ]
  },
  {
   "cell_type": "code",
   "execution_count": 17,
   "id": "8329c5f0",
   "metadata": {
    "scrolled": true
   },
   "outputs": [
    {
     "data": {
      "image/png": "[encoded data removed]",
      "text/plain": [
       "<Figure size 432x288 with 1 Axes>"
      ]
     },
     "metadata": {
      "needs_background": "light"
     },
     "output_type": "display_data"
    }
   ],
   "source": [
    "sns.countplot(x= df[\"diabetes\"],hue=df[\"death_event\"])\n",
    "plt.title('Angka Kematian Berdasarkan Adanya Diabetes atau tidak')\n",
    "plt.xlabel('Diabetes')\n",
    "plt.ylabel('Death')\n",
    "plt.show()"
   ]
  },
  {
   "cell_type": "markdown",
   "id": "db8bf02b",
   "metadata": {},
   "source": [
    "#### Data menunjukan bahwa jumlah pasien yang memiliki darah tinggi adalah sebanyak 105 pasien dan sisanya 194 pasien tidak memiliki penyakit darah tinggi"
   ]
  },
  {
   "cell_type": "code",
   "execution_count": 18,
   "id": "9c488777",
   "metadata": {
    "scrolled": true
   },
   "outputs": [
    {
     "data": {
      "text/plain": [
       "0    194\n",
       "1    105\n",
       "Name: high_blood_pressure, dtype: int64"
      ]
     },
     "execution_count": 18,
     "metadata": {},
     "output_type": "execute_result"
    },
    {
     "data": {
      "image/png": "[encoded data removed]",
      "text/plain": [
       "<Figure size 432x288 with 1 Axes>"
      ]
     },
     "metadata": {
      "needs_background": "light"
     },
     "output_type": "display_data"
    }
   ],
   "source": [
    "sns.countplot(x= df[\"high_blood_pressure\"])\n",
    "df[\"high_blood_pressure\"].value_counts()"
   ]
  },
  {
   "cell_type": "markdown",
   "id": "89a2bd76",
   "metadata": {},
   "source": [
    "#### Disini menunjukan bahwa angka kematian dikarenakan adanya darah tinggi adalah sangat rendah, dimana pasien yang tidak memiliki darah tinggi memiliki angka kematian yang lebih tinggi"
   ]
  },
  {
   "cell_type": "code",
   "execution_count": 19,
   "id": "2cbd8285",
   "metadata": {
    "scrolled": true
   },
   "outputs": [
    {
     "data": {
      "image/png": "[encoded data removed]",
      "text/plain": [
       "<Figure size 432x288 with 1 Axes>"
      ]
     },
     "metadata": {
      "needs_background": "light"
     },
     "output_type": "display_data"
    }
   ],
   "source": [
    "sns.countplot(x= df[\"high_blood_pressure\"],hue=df[\"death_event\"])\n",
    "plt.title('Angka Kematian Berdasarkan Adanya Darah tinggi atau tidak')\n",
    "plt.xlabel('Darah Tinggi')\n",
    "plt.ylabel('Death')\n",
    "plt.show()"
   ]
  },
  {
   "cell_type": "markdown",
   "id": "d1f2e00d",
   "metadata": {},
   "source": [
    "#### Data tersebut menunjukan bahwa laki-laki lebih banyak memiliki penyakit jantung dengan jumlah pasien mencapai 194 pasien dan wanita sebanyak 105 pasien."
   ]
  },
  {
   "cell_type": "code",
   "execution_count": 20,
   "id": "755aa247",
   "metadata": {
    "scrolled": true
   },
   "outputs": [
    {
     "data": {
      "text/plain": [
       "1    194\n",
       "0    105\n",
       "Name: sex, dtype: int64"
      ]
     },
     "execution_count": 20,
     "metadata": {},
     "output_type": "execute_result"
    },
    {
     "data": {
      "image/png": "[encoded data removed]",
      "text/plain": [
       "<Figure size 432x288 with 1 Axes>"
      ]
     },
     "metadata": {
      "needs_background": "light"
     },
     "output_type": "display_data"
    }
   ],
   "source": [
    "sns.countplot(x= df[\"sex\"])\n",
    "df[\"sex\"].value_counts()"
   ]
  },
  {
   "cell_type": "markdown",
   "id": "4266e234",
   "metadata": {},
   "source": [
    "#### Disini menunjukan bahwa Laki-Laki lebih berpotensi meninggal karena gagal jantung dibandingkan dengan wanita"
   ]
  },
  {
   "cell_type": "code",
   "execution_count": 21,
   "id": "3e2d970b",
   "metadata": {},
   "outputs": [
    {
     "data": {
      "image/png": "[encoded data removed]",
      "text/plain": [
       "<Figure size 432x288 with 1 Axes>"
      ]
     },
     "metadata": {
      "needs_background": "light"
     },
     "output_type": "display_data"
    }
   ],
   "source": [
    "sns.countplot(x= df[\"sex\"],hue=df[\"death_event\"])\n",
    "plt.title('Angka Kematian Berdasarkan Jenis Kelamin')\n",
    "plt.xlabel('Jenis Kelamin')\n",
    "plt.ylabel('Death')\n",
    "plt.show()"
   ]
  },
  {
   "cell_type": "markdown",
   "id": "d8c9ff6e",
   "metadata": {},
   "source": [
    "### Mencari Korelasi Antar Data"
   ]
  },
  {
   "cell_type": "code",
   "execution_count": 22,
   "id": "9c97e03e",
   "metadata": {},
   "outputs": [
    {
     "data": {
      "image/png": "[encoded data removed]",
      "text/plain": [
       "<Figure size 1080x1080 with 2 Axes>"
      ]
     },
     "metadata": {
      "needs_background": "light"
     },
     "output_type": "display_data"
    }
   ],
   "source": [
    "corr = df.corr()\n",
    "ax, fig = plt.subplots(figsize=(15,15))\n",
    "sns.heatmap(corr, vmin=-1, cmap='coolwarm', annot=True)\n",
    "plt.show()"
   ]
  },
  {
   "cell_type": "markdown",
   "id": "6d0aa9d5",
   "metadata": {},
   "source": [
    "### Mengambil Nilai Korelasi yang >0.1 dan <-0.1"
   ]
  },
  {
   "cell_type": "code",
   "execution_count": 23,
   "id": "37f994c4",
   "metadata": {
    "scrolled": true
   },
   "outputs": [
    {
     "data": {
      "text/plain": [
       "age                  0.253729\n",
       "ejection_fraction   -0.268603\n",
       "serum_creatinine     0.294278\n",
       "serum_sodium        -0.195204\n",
       "time                -0.526964\n",
       "death_event          1.000000\n",
       "Name: death_event, dtype: float64"
      ]
     },
     "execution_count": 23,
     "metadata": {},
     "output_type": "execute_result"
    }
   ],
   "source": [
    "corr[abs(corr['death_event']) > 0.1]['death_event']"
   ]
  },
  {
   "cell_type": "markdown",
   "id": "1f5eecbf",
   "metadata": {},
   "source": [
    "#### Disini menunjukan bahwa variabel [age, ejection_fraction, serum_creatinine, serum_sodium, time] memiliki pengaruh yang cukup kuat terhadap [death_event]/kematian \n",
    "#### Jadi bisa dikatakan 5 variabel diatas tersebut memiliki pengaruh kuat dalam menyebabkan seseorang meninggal karena gagal jantung"
   ]
  },
  {
   "cell_type": "markdown",
   "id": "732d9288",
   "metadata": {},
   "source": [
    "### Mencetak pembagian meninggal atau tidak meninggal berdasarkan umur"
   ]
  },
  {
   "cell_type": "code",
   "execution_count": 24,
   "id": "e714620f",
   "metadata": {
    "scrolled": false
   },
   "outputs": [
    {
     "data": {
      "text/plain": [
       "<AxesSubplot:xlabel='death_event', ylabel='age'>"
      ]
     },
     "execution_count": 24,
     "metadata": {},
     "output_type": "execute_result"
    },
    {
     "data": {
      "image/png": "[encoded data removed]",
      "text/plain": [
       "<Figure size 792x576 with 1 Axes>"
      ]
     },
     "metadata": {
      "needs_background": "light"
     },
     "output_type": "display_data"
    }
   ],
   "source": [
    "fig, ax = plt.subplots()\n",
    "fig.set_size_inches(11, 8)\n",
    "sns.swarmplot(x = 'death_event', y ='age', data = df)"
   ]
  },
  {
   "cell_type": "markdown",
   "id": "7bd97b08",
   "metadata": {},
   "source": [
    "#### Disini kita bisa lihat bahwa kebanyakan umur 40-70 tidak meninggal dan untuk meninggal kebanyakan berada di kisaran umur 40an-60an"
   ]
  },
  {
   "cell_type": "markdown",
   "id": "0d1b581d",
   "metadata": {},
   "source": [
    "### Mencetak pembagian meninggal atau tidak meninggal berdasarkan ejection_fraction"
   ]
  },
  {
   "cell_type": "code",
   "execution_count": 25,
   "id": "e1a2f0b0",
   "metadata": {},
   "outputs": [
    {
     "data": {
      "text/plain": [
       "<AxesSubplot:xlabel='death_event', ylabel='ejection_fraction'>"
      ]
     },
     "execution_count": 25,
     "metadata": {},
     "output_type": "execute_result"
    },
    {
     "data": {
      "image/png": "[encoded data removed]",
      "text/plain": [
       "<Figure size 792x576 with 1 Axes>"
      ]
     },
     "metadata": {
      "needs_background": "light"
     },
     "output_type": "display_data"
    }
   ],
   "source": [
    "fig, ax = plt.subplots()\n",
    "fig.set_size_inches(11, 8)\n",
    "sns.swarmplot(x = 'death_event', y ='ejection_fraction', data = df)"
   ]
  },
  {
   "cell_type": "markdown",
   "id": "91a7d14d",
   "metadata": {},
   "source": [
    "#### Disini menyatakan bahwa ketika jumlah persentasi darah yang keluar dari jantung perkontrasi di range 10-40 persen maka jumlah kematian akan sanggat tinggi terutama di 20-30 persen"
   ]
  },
  {
   "cell_type": "markdown",
   "id": "b2c298be",
   "metadata": {},
   "source": [
    "### Mencetak pembagian meninggal atau tidak meninggal berdasarkan serum_creatinine"
   ]
  },
  {
   "cell_type": "code",
   "execution_count": 26,
   "id": "a2526b7d",
   "metadata": {},
   "outputs": [
    {
     "data": {
      "text/plain": [
       "<AxesSubplot:xlabel='death_event', ylabel='serum_creatinine'>"
      ]
     },
     "execution_count": 26,
     "metadata": {},
     "output_type": "execute_result"
    },
    {
     "data": {
      "image/png": "[encoded data removed]",
      "text/plain": [
       "<Figure size 842.4x595.44 with 1 Axes>"
      ]
     },
     "metadata": {
      "needs_background": "light"
     },
     "output_type": "display_data"
    }
   ],
   "source": [
    "fig, ax = plt.subplots()\n",
    "fig.set_size_inches(11.7, 8.27)\n",
    "sns.swarmplot(x = 'death_event', y ='serum_creatinine', data = df)"
   ]
  },
  {
   "cell_type": "markdown",
   "id": "4cd34343",
   "metadata": {},
   "source": [
    "#### Disini menyatakan bahwa ketika nilai serum_creatinine di darah kita makin tinggi maka peluang untuk meninggal dikarenakan gagal jantung akan makin besar"
   ]
  },
  {
   "cell_type": "markdown",
   "id": "182641ac",
   "metadata": {},
   "source": [
    "### Mencetak pembagian meninggal atau tidak meninggal berdasarkan serum_sodium"
   ]
  },
  {
   "cell_type": "code",
   "execution_count": 27,
   "id": "6ad7977a",
   "metadata": {},
   "outputs": [
    {
     "data": {
      "text/plain": [
       "<AxesSubplot:xlabel='death_event', ylabel='serum_sodium'>"
      ]
     },
     "execution_count": 27,
     "metadata": {},
     "output_type": "execute_result"
    },
    {
     "data": {
      "image/png": "[encoded data removed]",
      "text/plain": [
       "<Figure size 842.4x595.44 with 1 Axes>"
      ]
     },
     "metadata": {
      "needs_background": "light"
     },
     "output_type": "display_data"
    }
   ],
   "source": [
    "fig, ax = plt.subplots()\n",
    "fig.set_size_inches(11.7, 8.27)\n",
    "sns.swarmplot(x = 'death_event', y ='serum_sodium', data = df)"
   ]
  },
  {
   "cell_type": "markdown",
   "id": "42c8a8d9",
   "metadata": {},
   "source": [
    "#### Disini menyatakan bahwa ketika nilai serum_sodium makin rendah di dalam darah maka peluang kematian akibat gagal jantung akan semakin besar"
   ]
  },
  {
   "cell_type": "markdown",
   "id": "04f93946",
   "metadata": {},
   "source": [
    "### Mencetak pembagian meninggal atau tidak meninggal berdasarkan time (lamanya waktu sakit)"
   ]
  },
  {
   "cell_type": "code",
   "execution_count": 28,
   "id": "2a799475",
   "metadata": {},
   "outputs": [
    {
     "data": {
      "text/plain": [
       "<AxesSubplot:xlabel='death_event', ylabel='time'>"
      ]
     },
     "execution_count": 28,
     "metadata": {},
     "output_type": "execute_result"
    },
    {
     "data": {
      "image/png": "[encoded data removed]",
      "text/plain": [
       "<Figure size 842.4x595.44 with 1 Axes>"
      ]
     },
     "metadata": {
      "needs_background": "light"
     },
     "output_type": "display_data"
    }
   ],
   "source": [
    "fig, ax = plt.subplots()\n",
    "fig.set_size_inches(11.7, 8.27)\n",
    "sns.swarmplot(x = 'death_event', y ='time', data = df)"
   ]
  },
  {
   "cell_type": "markdown",
   "id": "b16f5cfb",
   "metadata": {},
   "source": [
    "#### Disini menunjukan kebanyakan yang meninggal adalah pasien\" yang waktu dia sakit masih awal-awal dibandingkan pasien yang sudah lama terdiagnosa, sehingga disini menunjukan bahwa kita harus membuat suatu solusi agar dapat dilakukan pendeteksian awal jika melihat data tersebut"
   ]
  },
  {
   "cell_type": "markdown",
   "id": "c8e3f464",
   "metadata": {},
   "source": [
    "### Mengecek Outlier (Data-data luaran yang dapat menganggu ketika dilakukannya training sehingga hasilnya menjadi tidak konsisten dan tidak akurat)"
   ]
  },
  {
   "cell_type": "markdown",
   "id": "4f77b41f",
   "metadata": {},
   "source": [
    "#### Outlier Umur"
   ]
  },
  {
   "cell_type": "code",
   "execution_count": 29,
   "id": "89914c5b",
   "metadata": {},
   "outputs": [
    {
     "data": {
      "image/png": "[encoded data removed]",
      "text/plain": [
       "<Figure size 432x288 with 1 Axes>"
      ]
     },
     "metadata": {
      "needs_background": "light"
     },
     "output_type": "display_data"
    }
   ],
   "source": [
    "sns.boxplot(x = df.age)\n",
    "plt.show()"
   ]
  },
  {
   "cell_type": "markdown",
   "id": "88e634f9",
   "metadata": {},
   "source": [
    "#### Untuk data umur tidak memiliki Outlier dan data berpusat pada umur 50-70"
   ]
  },
  {
   "cell_type": "markdown",
   "id": "7edd1cb1",
   "metadata": {},
   "source": [
    "#### Outlier Ejection Fraction"
   ]
  },
  {
   "cell_type": "code",
   "execution_count": 30,
   "id": "d70bc79d",
   "metadata": {},
   "outputs": [
    {
     "data": {
      "image/png": "[encoded data removed]",
      "text/plain": [
       "<Figure size 432x288 with 1 Axes>"
      ]
     },
     "metadata": {
      "needs_background": "light"
     },
     "output_type": "display_data"
    }
   ],
   "source": [
    "sns.boxplot(x = df.ejection_fraction)\n",
    "plt.show()"
   ]
  },
  {
   "cell_type": "markdown",
   "id": "383470c4",
   "metadata": {},
   "source": [
    "#### Untuk data Ejection Fraction memiliki outlier yaitu 80 dan 70 sebanyak masing-masing satu data"
   ]
  },
  {
   "cell_type": "code",
   "execution_count": 31,
   "id": "c7cc9a98",
   "metadata": {},
   "outputs": [
    {
     "data": {
      "text/html": [
       "<div>\n",
       "<style scoped>\n",
       "    .dataframe tbody tr th:only-of-type {\n",
       "        vertical-align: middle;\n",
       "    }\n",
       "\n",
       "    .dataframe tbody tr th {\n",
       "        vertical-align: top;\n",
       "    }\n",
       "\n",
       "    .dataframe thead th {\n",
       "        text-align: right;\n",
       "    }\n",
       "</style>\n",
       "<table border=\"1\" class=\"dataframe\">\n",
       "  <thead>\n",
       "    <tr style=\"text-align: right;\">\n",
       "      <th></th>\n",
       "      <th>age</th>\n",
       "      <th>anaemia</th>\n",
       "      <th>creatinine_phosphokinase</th>\n",
       "      <th>diabetes</th>\n",
       "      <th>ejection_fraction</th>\n",
       "      <th>high_blood_pressure</th>\n",
       "      <th>platelets</th>\n",
       "      <th>serum_creatinine</th>\n",
       "      <th>serum_sodium</th>\n",
       "      <th>sex</th>\n",
       "      <th>smoking</th>\n",
       "      <th>time</th>\n",
       "      <th>death_event</th>\n",
       "    </tr>\n",
       "  </thead>\n",
       "  <tbody>\n",
       "    <tr>\n",
       "      <th>64</th>\n",
       "      <td>45.0</td>\n",
       "      <td>0</td>\n",
       "      <td>582</td>\n",
       "      <td>0</td>\n",
       "      <td>80</td>\n",
       "      <td>0</td>\n",
       "      <td>263358.03</td>\n",
       "      <td>1.18</td>\n",
       "      <td>137</td>\n",
       "      <td>0</td>\n",
       "      <td>0</td>\n",
       "      <td>63</td>\n",
       "      <td>0</td>\n",
       "    </tr>\n",
       "  </tbody>\n",
       "</table>\n",
       "</div>"
      ],
      "text/plain": [
       "     age  anaemia  creatinine_phosphokinase  diabetes  ejection_fraction  \\\n",
       "64  45.0        0                       582         0                 80   \n",
       "\n",
       "    high_blood_pressure  platelets  serum_creatinine  serum_sodium  sex  \\\n",
       "64                    0  263358.03              1.18           137    0   \n",
       "\n",
       "    smoking  time  death_event  \n",
       "64        0    63            0  "
      ]
     },
     "execution_count": 31,
     "metadata": {},
     "output_type": "execute_result"
    }
   ],
   "source": [
    "df[df['ejection_fraction']>70]"
   ]
  },
  {
   "cell_type": "markdown",
   "id": "c8e05d0d",
   "metadata": {},
   "source": [
    "#### Outlier Serum Creatinine"
   ]
  },
  {
   "cell_type": "code",
   "execution_count": 32,
   "id": "a56d1ac3",
   "metadata": {
    "scrolled": true
   },
   "outputs": [
    {
     "data": {
      "image/png": "[encoded data removed]",
      "text/plain": [
       "<Figure size 432x288 with 1 Axes>"
      ]
     },
     "metadata": {
      "needs_background": "light"
     },
     "output_type": "display_data"
    }
   ],
   "source": [
    "sns.boxplot(x = df.serum_creatinine)\n",
    "plt.show()"
   ]
  },
  {
   "cell_type": "markdown",
   "id": "cdbef2c2",
   "metadata": {},
   "source": [
    "#### Untuk data Serum Creatinine kita tidak menghapus outliernya dikarenakan berdasarkan data dari https://www.medicinenet.com/creatinine_blood_test/article.htm menununjukan bahwa serum_creatinine diatas 5 menunjukan adanya gejala yang tidak wajar pada jantung sehingga data outlier tersebut tidak dihapus karena bersifat valid dan membantu training"
   ]
  },
  {
   "cell_type": "code",
   "execution_count": 33,
   "id": "bd24dfa7",
   "metadata": {},
   "outputs": [
    {
     "data": {
      "text/html": [
       "<div>\n",
       "<style scoped>\n",
       "    .dataframe tbody tr th:only-of-type {\n",
       "        vertical-align: middle;\n",
       "    }\n",
       "\n",
       "    .dataframe tbody tr th {\n",
       "        vertical-align: top;\n",
       "    }\n",
       "\n",
       "    .dataframe thead th {\n",
       "        text-align: right;\n",
       "    }\n",
       "</style>\n",
       "<table border=\"1\" class=\"dataframe\">\n",
       "  <thead>\n",
       "    <tr style=\"text-align: right;\">\n",
       "      <th></th>\n",
       "      <th>age</th>\n",
       "      <th>anaemia</th>\n",
       "      <th>creatinine_phosphokinase</th>\n",
       "      <th>diabetes</th>\n",
       "      <th>ejection_fraction</th>\n",
       "      <th>high_blood_pressure</th>\n",
       "      <th>platelets</th>\n",
       "      <th>serum_creatinine</th>\n",
       "      <th>serum_sodium</th>\n",
       "      <th>sex</th>\n",
       "      <th>smoking</th>\n",
       "      <th>time</th>\n",
       "      <th>death_event</th>\n",
       "    </tr>\n",
       "  </thead>\n",
       "  <tbody>\n",
       "    <tr>\n",
       "      <th>4</th>\n",
       "      <td>65.0</td>\n",
       "      <td>1</td>\n",
       "      <td>160</td>\n",
       "      <td>1</td>\n",
       "      <td>20</td>\n",
       "      <td>0</td>\n",
       "      <td>327000.00</td>\n",
       "      <td>2.7</td>\n",
       "      <td>116</td>\n",
       "      <td>0</td>\n",
       "      <td>0</td>\n",
       "      <td>8</td>\n",
       "      <td>1</td>\n",
       "    </tr>\n",
       "    <tr>\n",
       "      <th>5</th>\n",
       "      <td>90.0</td>\n",
       "      <td>1</td>\n",
       "      <td>47</td>\n",
       "      <td>0</td>\n",
       "      <td>40</td>\n",
       "      <td>1</td>\n",
       "      <td>204000.00</td>\n",
       "      <td>2.1</td>\n",
       "      <td>132</td>\n",
       "      <td>1</td>\n",
       "      <td>1</td>\n",
       "      <td>8</td>\n",
       "      <td>1</td>\n",
       "    </tr>\n",
       "    <tr>\n",
       "      <th>9</th>\n",
       "      <td>80.0</td>\n",
       "      <td>1</td>\n",
       "      <td>123</td>\n",
       "      <td>0</td>\n",
       "      <td>35</td>\n",
       "      <td>1</td>\n",
       "      <td>388000.00</td>\n",
       "      <td>9.4</td>\n",
       "      <td>133</td>\n",
       "      <td>1</td>\n",
       "      <td>1</td>\n",
       "      <td>10</td>\n",
       "      <td>1</td>\n",
       "    </tr>\n",
       "    <tr>\n",
       "      <th>10</th>\n",
       "      <td>75.0</td>\n",
       "      <td>1</td>\n",
       "      <td>81</td>\n",
       "      <td>0</td>\n",
       "      <td>38</td>\n",
       "      <td>1</td>\n",
       "      <td>368000.00</td>\n",
       "      <td>4.0</td>\n",
       "      <td>131</td>\n",
       "      <td>1</td>\n",
       "      <td>1</td>\n",
       "      <td>10</td>\n",
       "      <td>1</td>\n",
       "    </tr>\n",
       "    <tr>\n",
       "      <th>28</th>\n",
       "      <td>58.0</td>\n",
       "      <td>1</td>\n",
       "      <td>60</td>\n",
       "      <td>0</td>\n",
       "      <td>38</td>\n",
       "      <td>0</td>\n",
       "      <td>153000.00</td>\n",
       "      <td>5.8</td>\n",
       "      <td>134</td>\n",
       "      <td>1</td>\n",
       "      <td>0</td>\n",
       "      <td>26</td>\n",
       "      <td>1</td>\n",
       "    </tr>\n",
       "    <tr>\n",
       "      <th>31</th>\n",
       "      <td>85.0</td>\n",
       "      <td>0</td>\n",
       "      <td>23</td>\n",
       "      <td>0</td>\n",
       "      <td>45</td>\n",
       "      <td>0</td>\n",
       "      <td>360000.00</td>\n",
       "      <td>3.0</td>\n",
       "      <td>132</td>\n",
       "      <td>1</td>\n",
       "      <td>0</td>\n",
       "      <td>28</td>\n",
       "      <td>1</td>\n",
       "    </tr>\n",
       "    <tr>\n",
       "      <th>35</th>\n",
       "      <td>69.0</td>\n",
       "      <td>0</td>\n",
       "      <td>582</td>\n",
       "      <td>1</td>\n",
       "      <td>35</td>\n",
       "      <td>0</td>\n",
       "      <td>228000.00</td>\n",
       "      <td>3.5</td>\n",
       "      <td>134</td>\n",
       "      <td>1</td>\n",
       "      <td>0</td>\n",
       "      <td>30</td>\n",
       "      <td>1</td>\n",
       "    </tr>\n",
       "    <tr>\n",
       "      <th>38</th>\n",
       "      <td>60.0</td>\n",
       "      <td>0</td>\n",
       "      <td>2656</td>\n",
       "      <td>1</td>\n",
       "      <td>30</td>\n",
       "      <td>0</td>\n",
       "      <td>305000.00</td>\n",
       "      <td>2.3</td>\n",
       "      <td>137</td>\n",
       "      <td>1</td>\n",
       "      <td>0</td>\n",
       "      <td>30</td>\n",
       "      <td>0</td>\n",
       "    </tr>\n",
       "    <tr>\n",
       "      <th>39</th>\n",
       "      <td>60.0</td>\n",
       "      <td>0</td>\n",
       "      <td>235</td>\n",
       "      <td>1</td>\n",
       "      <td>38</td>\n",
       "      <td>0</td>\n",
       "      <td>329000.00</td>\n",
       "      <td>3.0</td>\n",
       "      <td>142</td>\n",
       "      <td>0</td>\n",
       "      <td>0</td>\n",
       "      <td>30</td>\n",
       "      <td>1</td>\n",
       "    </tr>\n",
       "    <tr>\n",
       "      <th>48</th>\n",
       "      <td>80.0</td>\n",
       "      <td>1</td>\n",
       "      <td>553</td>\n",
       "      <td>0</td>\n",
       "      <td>20</td>\n",
       "      <td>1</td>\n",
       "      <td>140000.00</td>\n",
       "      <td>4.4</td>\n",
       "      <td>133</td>\n",
       "      <td>1</td>\n",
       "      <td>0</td>\n",
       "      <td>41</td>\n",
       "      <td>1</td>\n",
       "    </tr>\n",
       "    <tr>\n",
       "      <th>52</th>\n",
       "      <td>60.0</td>\n",
       "      <td>0</td>\n",
       "      <td>3964</td>\n",
       "      <td>1</td>\n",
       "      <td>62</td>\n",
       "      <td>0</td>\n",
       "      <td>263358.03</td>\n",
       "      <td>6.8</td>\n",
       "      <td>146</td>\n",
       "      <td>0</td>\n",
       "      <td>0</td>\n",
       "      <td>43</td>\n",
       "      <td>1</td>\n",
       "    </tr>\n",
       "    <tr>\n",
       "      <th>54</th>\n",
       "      <td>60.0</td>\n",
       "      <td>1</td>\n",
       "      <td>260</td>\n",
       "      <td>1</td>\n",
       "      <td>38</td>\n",
       "      <td>0</td>\n",
       "      <td>255000.00</td>\n",
       "      <td>2.2</td>\n",
       "      <td>132</td>\n",
       "      <td>0</td>\n",
       "      <td>1</td>\n",
       "      <td>45</td>\n",
       "      <td>1</td>\n",
       "    </tr>\n",
       "    <tr>\n",
       "      <th>55</th>\n",
       "      <td>95.0</td>\n",
       "      <td>1</td>\n",
       "      <td>371</td>\n",
       "      <td>0</td>\n",
       "      <td>30</td>\n",
       "      <td>0</td>\n",
       "      <td>461000.00</td>\n",
       "      <td>2.0</td>\n",
       "      <td>132</td>\n",
       "      <td>1</td>\n",
       "      <td>0</td>\n",
       "      <td>50</td>\n",
       "      <td>1</td>\n",
       "    </tr>\n",
       "    <tr>\n",
       "      <th>56</th>\n",
       "      <td>70.0</td>\n",
       "      <td>1</td>\n",
       "      <td>75</td>\n",
       "      <td>0</td>\n",
       "      <td>35</td>\n",
       "      <td>0</td>\n",
       "      <td>223000.00</td>\n",
       "      <td>2.7</td>\n",
       "      <td>138</td>\n",
       "      <td>1</td>\n",
       "      <td>1</td>\n",
       "      <td>54</td>\n",
       "      <td>0</td>\n",
       "    </tr>\n",
       "    <tr>\n",
       "      <th>61</th>\n",
       "      <td>50.0</td>\n",
       "      <td>0</td>\n",
       "      <td>318</td>\n",
       "      <td>0</td>\n",
       "      <td>40</td>\n",
       "      <td>1</td>\n",
       "      <td>216000.00</td>\n",
       "      <td>2.3</td>\n",
       "      <td>131</td>\n",
       "      <td>0</td>\n",
       "      <td>0</td>\n",
       "      <td>60</td>\n",
       "      <td>1</td>\n",
       "    </tr>\n",
       "    <tr>\n",
       "      <th>65</th>\n",
       "      <td>60.0</td>\n",
       "      <td>0</td>\n",
       "      <td>68</td>\n",
       "      <td>0</td>\n",
       "      <td>20</td>\n",
       "      <td>0</td>\n",
       "      <td>119000.00</td>\n",
       "      <td>2.9</td>\n",
       "      <td>127</td>\n",
       "      <td>1</td>\n",
       "      <td>1</td>\n",
       "      <td>64</td>\n",
       "      <td>1</td>\n",
       "    </tr>\n",
       "    <tr>\n",
       "      <th>82</th>\n",
       "      <td>60.0</td>\n",
       "      <td>1</td>\n",
       "      <td>76</td>\n",
       "      <td>1</td>\n",
       "      <td>25</td>\n",
       "      <td>0</td>\n",
       "      <td>196000.00</td>\n",
       "      <td>2.5</td>\n",
       "      <td>132</td>\n",
       "      <td>0</td>\n",
       "      <td>0</td>\n",
       "      <td>77</td>\n",
       "      <td>1</td>\n",
       "    </tr>\n",
       "    <tr>\n",
       "      <th>104</th>\n",
       "      <td>60.0</td>\n",
       "      <td>0</td>\n",
       "      <td>53</td>\n",
       "      <td>0</td>\n",
       "      <td>50</td>\n",
       "      <td>1</td>\n",
       "      <td>286000.00</td>\n",
       "      <td>2.3</td>\n",
       "      <td>143</td>\n",
       "      <td>0</td>\n",
       "      <td>0</td>\n",
       "      <td>87</td>\n",
       "      <td>0</td>\n",
       "    </tr>\n",
       "    <tr>\n",
       "      <th>117</th>\n",
       "      <td>85.0</td>\n",
       "      <td>1</td>\n",
       "      <td>102</td>\n",
       "      <td>0</td>\n",
       "      <td>60</td>\n",
       "      <td>0</td>\n",
       "      <td>507000.00</td>\n",
       "      <td>3.2</td>\n",
       "      <td>138</td>\n",
       "      <td>0</td>\n",
       "      <td>0</td>\n",
       "      <td>94</td>\n",
       "      <td>0</td>\n",
       "    </tr>\n",
       "    <tr>\n",
       "      <th>124</th>\n",
       "      <td>60.0</td>\n",
       "      <td>0</td>\n",
       "      <td>582</td>\n",
       "      <td>0</td>\n",
       "      <td>40</td>\n",
       "      <td>0</td>\n",
       "      <td>217000.00</td>\n",
       "      <td>3.7</td>\n",
       "      <td>134</td>\n",
       "      <td>1</td>\n",
       "      <td>0</td>\n",
       "      <td>96</td>\n",
       "      <td>1</td>\n",
       "    </tr>\n",
       "    <tr>\n",
       "      <th>126</th>\n",
       "      <td>46.0</td>\n",
       "      <td>0</td>\n",
       "      <td>168</td>\n",
       "      <td>1</td>\n",
       "      <td>17</td>\n",
       "      <td>1</td>\n",
       "      <td>271000.00</td>\n",
       "      <td>2.1</td>\n",
       "      <td>124</td>\n",
       "      <td>0</td>\n",
       "      <td>0</td>\n",
       "      <td>100</td>\n",
       "      <td>1</td>\n",
       "    </tr>\n",
       "    <tr>\n",
       "      <th>129</th>\n",
       "      <td>53.0</td>\n",
       "      <td>1</td>\n",
       "      <td>270</td>\n",
       "      <td>1</td>\n",
       "      <td>35</td>\n",
       "      <td>0</td>\n",
       "      <td>227000.00</td>\n",
       "      <td>3.4</td>\n",
       "      <td>145</td>\n",
       "      <td>1</td>\n",
       "      <td>0</td>\n",
       "      <td>105</td>\n",
       "      <td>0</td>\n",
       "    </tr>\n",
       "    <tr>\n",
       "      <th>131</th>\n",
       "      <td>60.0</td>\n",
       "      <td>1</td>\n",
       "      <td>1082</td>\n",
       "      <td>1</td>\n",
       "      <td>45</td>\n",
       "      <td>0</td>\n",
       "      <td>250000.00</td>\n",
       "      <td>6.1</td>\n",
       "      <td>131</td>\n",
       "      <td>1</td>\n",
       "      <td>0</td>\n",
       "      <td>107</td>\n",
       "      <td>0</td>\n",
       "    </tr>\n",
       "    <tr>\n",
       "      <th>137</th>\n",
       "      <td>68.0</td>\n",
       "      <td>1</td>\n",
       "      <td>646</td>\n",
       "      <td>0</td>\n",
       "      <td>25</td>\n",
       "      <td>0</td>\n",
       "      <td>305000.00</td>\n",
       "      <td>2.1</td>\n",
       "      <td>130</td>\n",
       "      <td>1</td>\n",
       "      <td>0</td>\n",
       "      <td>108</td>\n",
       "      <td>0</td>\n",
       "    </tr>\n",
       "    <tr>\n",
       "      <th>150</th>\n",
       "      <td>72.0</td>\n",
       "      <td>0</td>\n",
       "      <td>233</td>\n",
       "      <td>0</td>\n",
       "      <td>45</td>\n",
       "      <td>1</td>\n",
       "      <td>235000.00</td>\n",
       "      <td>2.5</td>\n",
       "      <td>135</td>\n",
       "      <td>0</td>\n",
       "      <td>0</td>\n",
       "      <td>115</td>\n",
       "      <td>1</td>\n",
       "    </tr>\n",
       "    <tr>\n",
       "      <th>167</th>\n",
       "      <td>59.0</td>\n",
       "      <td>0</td>\n",
       "      <td>66</td>\n",
       "      <td>1</td>\n",
       "      <td>20</td>\n",
       "      <td>0</td>\n",
       "      <td>70000.00</td>\n",
       "      <td>2.4</td>\n",
       "      <td>134</td>\n",
       "      <td>1</td>\n",
       "      <td>0</td>\n",
       "      <td>135</td>\n",
       "      <td>1</td>\n",
       "    </tr>\n",
       "    <tr>\n",
       "      <th>183</th>\n",
       "      <td>75.0</td>\n",
       "      <td>0</td>\n",
       "      <td>99</td>\n",
       "      <td>0</td>\n",
       "      <td>38</td>\n",
       "      <td>1</td>\n",
       "      <td>224000.00</td>\n",
       "      <td>2.5</td>\n",
       "      <td>134</td>\n",
       "      <td>1</td>\n",
       "      <td>0</td>\n",
       "      <td>162</td>\n",
       "      <td>1</td>\n",
       "    </tr>\n",
       "    <tr>\n",
       "      <th>187</th>\n",
       "      <td>60.0</td>\n",
       "      <td>0</td>\n",
       "      <td>1896</td>\n",
       "      <td>1</td>\n",
       "      <td>25</td>\n",
       "      <td>0</td>\n",
       "      <td>365000.00</td>\n",
       "      <td>2.1</td>\n",
       "      <td>144</td>\n",
       "      <td>0</td>\n",
       "      <td>0</td>\n",
       "      <td>172</td>\n",
       "      <td>1</td>\n",
       "    </tr>\n",
       "    <tr>\n",
       "      <th>190</th>\n",
       "      <td>80.0</td>\n",
       "      <td>0</td>\n",
       "      <td>582</td>\n",
       "      <td>1</td>\n",
       "      <td>35</td>\n",
       "      <td>0</td>\n",
       "      <td>350000.00</td>\n",
       "      <td>2.1</td>\n",
       "      <td>134</td>\n",
       "      <td>1</td>\n",
       "      <td>0</td>\n",
       "      <td>174</td>\n",
       "      <td>0</td>\n",
       "    </tr>\n",
       "    <tr>\n",
       "      <th>203</th>\n",
       "      <td>60.0</td>\n",
       "      <td>0</td>\n",
       "      <td>59</td>\n",
       "      <td>0</td>\n",
       "      <td>25</td>\n",
       "      <td>1</td>\n",
       "      <td>212000.00</td>\n",
       "      <td>3.5</td>\n",
       "      <td>136</td>\n",
       "      <td>1</td>\n",
       "      <td>1</td>\n",
       "      <td>187</td>\n",
       "      <td>0</td>\n",
       "    </tr>\n",
       "    <tr>\n",
       "      <th>217</th>\n",
       "      <td>54.0</td>\n",
       "      <td>1</td>\n",
       "      <td>427</td>\n",
       "      <td>0</td>\n",
       "      <td>70</td>\n",
       "      <td>1</td>\n",
       "      <td>151000.00</td>\n",
       "      <td>9.0</td>\n",
       "      <td>137</td>\n",
       "      <td>0</td>\n",
       "      <td>0</td>\n",
       "      <td>196</td>\n",
       "      <td>1</td>\n",
       "    </tr>\n",
       "    <tr>\n",
       "      <th>228</th>\n",
       "      <td>65.0</td>\n",
       "      <td>0</td>\n",
       "      <td>56</td>\n",
       "      <td>0</td>\n",
       "      <td>25</td>\n",
       "      <td>0</td>\n",
       "      <td>237000.00</td>\n",
       "      <td>5.0</td>\n",
       "      <td>130</td>\n",
       "      <td>0</td>\n",
       "      <td>0</td>\n",
       "      <td>207</td>\n",
       "      <td>0</td>\n",
       "    </tr>\n",
       "    <tr>\n",
       "      <th>247</th>\n",
       "      <td>64.0</td>\n",
       "      <td>0</td>\n",
       "      <td>143</td>\n",
       "      <td>0</td>\n",
       "      <td>25</td>\n",
       "      <td>0</td>\n",
       "      <td>246000.00</td>\n",
       "      <td>2.4</td>\n",
       "      <td>135</td>\n",
       "      <td>1</td>\n",
       "      <td>0</td>\n",
       "      <td>214</td>\n",
       "      <td>0</td>\n",
       "    </tr>\n",
       "    <tr>\n",
       "      <th>281</th>\n",
       "      <td>70.0</td>\n",
       "      <td>0</td>\n",
       "      <td>582</td>\n",
       "      <td>0</td>\n",
       "      <td>40</td>\n",
       "      <td>0</td>\n",
       "      <td>51000.00</td>\n",
       "      <td>2.7</td>\n",
       "      <td>136</td>\n",
       "      <td>1</td>\n",
       "      <td>1</td>\n",
       "      <td>250</td>\n",
       "      <td>0</td>\n",
       "    </tr>\n",
       "    <tr>\n",
       "      <th>282</th>\n",
       "      <td>42.0</td>\n",
       "      <td>0</td>\n",
       "      <td>64</td>\n",
       "      <td>0</td>\n",
       "      <td>30</td>\n",
       "      <td>0</td>\n",
       "      <td>215000.00</td>\n",
       "      <td>3.8</td>\n",
       "      <td>128</td>\n",
       "      <td>1</td>\n",
       "      <td>1</td>\n",
       "      <td>250</td>\n",
       "      <td>0</td>\n",
       "    </tr>\n",
       "  </tbody>\n",
       "</table>\n",
       "</div>"
      ],
      "text/plain": [
       "      age  anaemia  creatinine_phosphokinase  diabetes  ejection_fraction  \\\n",
       "4    65.0        1                       160         1                 20   \n",
       "5    90.0        1                        47         0                 40   \n",
       "9    80.0        1                       123         0                 35   \n",
       "10   75.0        1                        81         0                 38   \n",
       "28   58.0        1                        60         0                 38   \n",
       "31   85.0        0                        23         0                 45   \n",
       "35   69.0        0                       582         1                 35   \n",
       "38   60.0        0                      2656         1                 30   \n",
       "39   60.0        0                       235         1                 38   \n",
       "48   80.0        1                       553         0                 20   \n",
       "52   60.0        0                      3964         1                 62   \n",
       "54   60.0        1                       260         1                 38   \n",
       "55   95.0        1                       371         0                 30   \n",
       "56   70.0        1                        75         0                 35   \n",
       "61   50.0        0                       318         0                 40   \n",
       "65   60.0        0                        68         0                 20   \n",
       "82   60.0        1                        76         1                 25   \n",
       "104  60.0        0                        53         0                 50   \n",
       "117  85.0        1                       102         0                 60   \n",
       "124  60.0        0                       582         0                 40   \n",
       "126  46.0        0                       168         1                 17   \n",
       "129  53.0        1                       270         1                 35   \n",
       "131  60.0        1                      1082         1                 45   \n",
       "137  68.0        1                       646         0                 25   \n",
       "150  72.0        0                       233         0                 45   \n",
       "167  59.0        0                        66         1                 20   \n",
       "183  75.0        0                        99         0                 38   \n",
       "187  60.0        0                      1896         1                 25   \n",
       "190  80.0        0                       582         1                 35   \n",
       "203  60.0        0                        59         0                 25   \n",
       "217  54.0        1                       427         0                 70   \n",
       "228  65.0        0                        56         0                 25   \n",
       "247  64.0        0                       143         0                 25   \n",
       "281  70.0        0                       582         0                 40   \n",
       "282  42.0        0                        64         0                 30   \n",
       "\n",
       "     high_blood_pressure  platelets  serum_creatinine  serum_sodium  sex  \\\n",
       "4                      0  327000.00               2.7           116    0   \n",
       "5                      1  204000.00               2.1           132    1   \n",
       "9                      1  388000.00               9.4           133    1   \n",
       "10                     1  368000.00               4.0           131    1   \n",
       "28                     0  153000.00               5.8           134    1   \n",
       "31                     0  360000.00               3.0           132    1   \n",
       "35                     0  228000.00               3.5           134    1   \n",
       "38                     0  305000.00               2.3           137    1   \n",
       "39                     0  329000.00               3.0           142    0   \n",
       "48                     1  140000.00               4.4           133    1   \n",
       "52                     0  263358.03               6.8           146    0   \n",
       "54                     0  255000.00               2.2           132    0   \n",
       "55                     0  461000.00               2.0           132    1   \n",
       "56                     0  223000.00               2.7           138    1   \n",
       "61                     1  216000.00               2.3           131    0   \n",
       "65                     0  119000.00               2.9           127    1   \n",
       "82                     0  196000.00               2.5           132    0   \n",
       "104                    1  286000.00               2.3           143    0   \n",
       "117                    0  507000.00               3.2           138    0   \n",
       "124                    0  217000.00               3.7           134    1   \n",
       "126                    1  271000.00               2.1           124    0   \n",
       "129                    0  227000.00               3.4           145    1   \n",
       "131                    0  250000.00               6.1           131    1   \n",
       "137                    0  305000.00               2.1           130    1   \n",
       "150                    1  235000.00               2.5           135    0   \n",
       "167                    0   70000.00               2.4           134    1   \n",
       "183                    1  224000.00               2.5           134    1   \n",
       "187                    0  365000.00               2.1           144    0   \n",
       "190                    0  350000.00               2.1           134    1   \n",
       "203                    1  212000.00               3.5           136    1   \n",
       "217                    1  151000.00               9.0           137    0   \n",
       "228                    0  237000.00               5.0           130    0   \n",
       "247                    0  246000.00               2.4           135    1   \n",
       "281                    0   51000.00               2.7           136    1   \n",
       "282                    0  215000.00               3.8           128    1   \n",
       "\n",
       "     smoking  time  death_event  \n",
       "4          0     8            1  \n",
       "5          1     8            1  \n",
       "9          1    10            1  \n",
       "10         1    10            1  \n",
       "28         0    26            1  \n",
       "31         0    28            1  \n",
       "35         0    30            1  \n",
       "38         0    30            0  \n",
       "39         0    30            1  \n",
       "48         0    41            1  \n",
       "52         0    43            1  \n",
       "54         1    45            1  \n",
       "55         0    50            1  \n",
       "56         1    54            0  \n",
       "61         0    60            1  \n",
       "65         1    64            1  \n",
       "82         0    77            1  \n",
       "104        0    87            0  \n",
       "117        0    94            0  \n",
       "124        0    96            1  \n",
       "126        0   100            1  \n",
       "129        0   105            0  \n",
       "131        0   107            0  \n",
       "137        0   108            0  \n",
       "150        0   115            1  \n",
       "167        0   135            1  \n",
       "183        0   162            1  \n",
       "187        0   172            1  \n",
       "190        0   174            0  \n",
       "203        1   187            0  \n",
       "217        0   196            1  \n",
       "228        0   207            0  \n",
       "247        0   214            0  \n",
       "281        1   250            0  \n",
       "282        1   250            0  "
      ]
     },
     "execution_count": 33,
     "metadata": {},
     "output_type": "execute_result"
    }
   ],
   "source": [
    "df[df['serum_creatinine']>=2]"
   ]
  },
  {
   "cell_type": "markdown",
   "id": "adc53027",
   "metadata": {},
   "source": [
    "#### Outlier Serum Sodium"
   ]
  },
  {
   "cell_type": "code",
   "execution_count": 34,
   "id": "84abf469",
   "metadata": {},
   "outputs": [
    {
     "data": {
      "image/png": "[encoded data removed]",
      "text/plain": [
       "<Figure size 432x288 with 1 Axes>"
      ]
     },
     "metadata": {
      "needs_background": "light"
     },
     "output_type": "display_data"
    }
   ],
   "source": [
    "sns.boxplot(x = df.serum_sodium)\n",
    "plt.show()"
   ]
  },
  {
   "cell_type": "markdown",
   "id": "dccd18bb",
   "metadata": {},
   "source": [
    "#### Untuk data Serum Sodium memiliki 4 outlier yang outlier diantara 120-125 adalah outlier pendukung training dan lebih kecil dari 120 adalah outlier yang harus dibuang"
   ]
  },
  {
   "cell_type": "code",
   "execution_count": 35,
   "id": "5e92ae23",
   "metadata": {},
   "outputs": [
    {
     "data": {
      "text/html": [
       "<div>\n",
       "<style scoped>\n",
       "    .dataframe tbody tr th:only-of-type {\n",
       "        vertical-align: middle;\n",
       "    }\n",
       "\n",
       "    .dataframe tbody tr th {\n",
       "        vertical-align: top;\n",
       "    }\n",
       "\n",
       "    .dataframe thead th {\n",
       "        text-align: right;\n",
       "    }\n",
       "</style>\n",
       "<table border=\"1\" class=\"dataframe\">\n",
       "  <thead>\n",
       "    <tr style=\"text-align: right;\">\n",
       "      <th></th>\n",
       "      <th>age</th>\n",
       "      <th>anaemia</th>\n",
       "      <th>creatinine_phosphokinase</th>\n",
       "      <th>diabetes</th>\n",
       "      <th>ejection_fraction</th>\n",
       "      <th>high_blood_pressure</th>\n",
       "      <th>platelets</th>\n",
       "      <th>serum_creatinine</th>\n",
       "      <th>serum_sodium</th>\n",
       "      <th>sex</th>\n",
       "      <th>smoking</th>\n",
       "      <th>time</th>\n",
       "      <th>death_event</th>\n",
       "    </tr>\n",
       "  </thead>\n",
       "  <tbody>\n",
       "    <tr>\n",
       "      <th>4</th>\n",
       "      <td>65.0</td>\n",
       "      <td>1</td>\n",
       "      <td>160</td>\n",
       "      <td>1</td>\n",
       "      <td>20</td>\n",
       "      <td>0</td>\n",
       "      <td>327000.00</td>\n",
       "      <td>2.7</td>\n",
       "      <td>116</td>\n",
       "      <td>0</td>\n",
       "      <td>0</td>\n",
       "      <td>8</td>\n",
       "      <td>1</td>\n",
       "    </tr>\n",
       "    <tr>\n",
       "      <th>19</th>\n",
       "      <td>48.0</td>\n",
       "      <td>1</td>\n",
       "      <td>582</td>\n",
       "      <td>1</td>\n",
       "      <td>55</td>\n",
       "      <td>0</td>\n",
       "      <td>87000.00</td>\n",
       "      <td>1.9</td>\n",
       "      <td>121</td>\n",
       "      <td>0</td>\n",
       "      <td>0</td>\n",
       "      <td>15</td>\n",
       "      <td>1</td>\n",
       "    </tr>\n",
       "    <tr>\n",
       "      <th>126</th>\n",
       "      <td>46.0</td>\n",
       "      <td>0</td>\n",
       "      <td>168</td>\n",
       "      <td>1</td>\n",
       "      <td>17</td>\n",
       "      <td>1</td>\n",
       "      <td>271000.00</td>\n",
       "      <td>2.1</td>\n",
       "      <td>124</td>\n",
       "      <td>0</td>\n",
       "      <td>0</td>\n",
       "      <td>100</td>\n",
       "      <td>1</td>\n",
       "    </tr>\n",
       "    <tr>\n",
       "      <th>199</th>\n",
       "      <td>60.0</td>\n",
       "      <td>0</td>\n",
       "      <td>1211</td>\n",
       "      <td>1</td>\n",
       "      <td>35</td>\n",
       "      <td>0</td>\n",
       "      <td>263358.03</td>\n",
       "      <td>1.8</td>\n",
       "      <td>113</td>\n",
       "      <td>1</td>\n",
       "      <td>1</td>\n",
       "      <td>186</td>\n",
       "      <td>0</td>\n",
       "    </tr>\n",
       "    <tr>\n",
       "      <th>225</th>\n",
       "      <td>75.0</td>\n",
       "      <td>0</td>\n",
       "      <td>675</td>\n",
       "      <td>1</td>\n",
       "      <td>60</td>\n",
       "      <td>0</td>\n",
       "      <td>265000.00</td>\n",
       "      <td>1.4</td>\n",
       "      <td>125</td>\n",
       "      <td>0</td>\n",
       "      <td>0</td>\n",
       "      <td>205</td>\n",
       "      <td>0</td>\n",
       "    </tr>\n",
       "  </tbody>\n",
       "</table>\n",
       "</div>"
      ],
      "text/plain": [
       "      age  anaemia  creatinine_phosphokinase  diabetes  ejection_fraction  \\\n",
       "4    65.0        1                       160         1                 20   \n",
       "19   48.0        1                       582         1                 55   \n",
       "126  46.0        0                       168         1                 17   \n",
       "199  60.0        0                      1211         1                 35   \n",
       "225  75.0        0                       675         1                 60   \n",
       "\n",
       "     high_blood_pressure  platelets  serum_creatinine  serum_sodium  sex  \\\n",
       "4                      0  327000.00               2.7           116    0   \n",
       "19                     0   87000.00               1.9           121    0   \n",
       "126                    1  271000.00               2.1           124    0   \n",
       "199                    0  263358.03               1.8           113    1   \n",
       "225                    0  265000.00               1.4           125    0   \n",
       "\n",
       "     smoking  time  death_event  \n",
       "4          0     8            1  \n",
       "19         0    15            1  \n",
       "126        0   100            1  \n",
       "199        1   186            0  \n",
       "225        0   205            0  "
      ]
     },
     "execution_count": 35,
     "metadata": {},
     "output_type": "execute_result"
    }
   ],
   "source": [
    "df[df['serum_sodium']<=125]"
   ]
  },
  {
   "cell_type": "markdown",
   "id": "c9a5e4fd",
   "metadata": {},
   "source": [
    "#### Outlier Waktu"
   ]
  },
  {
   "cell_type": "code",
   "execution_count": 36,
   "id": "62c04d57",
   "metadata": {},
   "outputs": [
    {
     "data": {
      "image/png": "[encoded data removed]",
      "text/plain": [
       "<Figure size 432x288 with 1 Axes>"
      ]
     },
     "metadata": {
      "needs_background": "light"
     },
     "output_type": "display_data"
    }
   ],
   "source": [
    "sns.boxplot(x = df.time)\n",
    "plt.show()"
   ]
  },
  {
   "cell_type": "markdown",
   "id": "704e6fd0",
   "metadata": {},
   "source": [
    "#### Untuk data waktu tidak memiliki Outlier dan data berpusat pada 70-200 hari"
   ]
  },
  {
   "cell_type": "markdown",
   "id": "c27eae92",
   "metadata": {},
   "source": [
    "### Melakukan penghapusan outlier yang tidak diperlukan untuk training model"
   ]
  },
  {
   "cell_type": "code",
   "execution_count": 37,
   "id": "3d1a6989",
   "metadata": {},
   "outputs": [],
   "source": [
    "df = df[df['ejection_fraction']<=70]\n",
    "df = df[df['serum_sodium']>=120]"
   ]
  },
  {
   "cell_type": "code",
   "execution_count": 38,
   "id": "d427b355",
   "metadata": {},
   "outputs": [
    {
     "data": {
      "text/plain": [
       "(296, 13)"
      ]
     },
     "execution_count": 38,
     "metadata": {},
     "output_type": "execute_result"
    }
   ],
   "source": [
    "df.shape"
   ]
  },
  {
   "cell_type": "markdown",
   "id": "696bde9a",
   "metadata": {},
   "source": [
    "#### Setelah data dibuang maka sisa data yang dapat digunakan adalah sebanyak 296 data pasien"
   ]
  },
  {
   "cell_type": "markdown",
   "id": "f25855e0",
   "metadata": {},
   "source": [
    "## Model Training dan Prediksi"
   ]
  },
  {
   "cell_type": "markdown",
   "id": "8f7e2aff",
   "metadata": {},
   "source": [
    "### Melakukan pembagian dataframe menjadi X dan Y , X yang dimana berisi variabel yang datanya memiliki korelasi yang kuat dengan death_event, Y dimana berisi label death_event"
   ]
  },
  {
   "cell_type": "code",
   "execution_count": 39,
   "id": "4bf5d318",
   "metadata": {},
   "outputs": [],
   "source": [
    "x = df[['age','ejection_fraction','serum_creatinine','serum_sodium','time']]\n",
    "y = df['death_event']"
   ]
  },
  {
   "cell_type": "markdown",
   "id": "1fd738c6",
   "metadata": {},
   "source": [
    "#### Disini kita bisa lihat bahwa untuk x memiliki sisa kolum yaitu : ['age', 'ejection_fraction', 'serum_creatinine', 'serum_sodium', 'time'], sedangan y memiliki 1 kolum yang memiliki nilai 0 (Tidak meninggal) atau 1 (meninggal) saja "
   ]
  },
  {
   "cell_type": "code",
   "execution_count": 40,
   "id": "f66f09f4",
   "metadata": {},
   "outputs": [
    {
     "data": {
      "text/plain": [
       "(Index(['age', 'ejection_fraction', 'serum_creatinine', 'serum_sodium', 'time'], dtype='object'),\n",
       " 0      1\n",
       " 1      1\n",
       " 2      1\n",
       " 3      1\n",
       " 5      1\n",
       "       ..\n",
       " 294    0\n",
       " 295    0\n",
       " 296    0\n",
       " 297    0\n",
       " 298    0\n",
       " Name: death_event, Length: 296, dtype: int64)"
      ]
     },
     "execution_count": 40,
     "metadata": {},
     "output_type": "execute_result"
    }
   ],
   "source": [
    "x.columns , y"
   ]
  },
  {
   "cell_type": "markdown",
   "id": "b8afff56",
   "metadata": {},
   "source": [
    "### Melakukan Splitting Dataset ke training set dan testing set dengan jumlah testing sebesar 30% dari dataset dan 70% sisanya untuk training"
   ]
  },
  {
   "cell_type": "code",
   "execution_count": 41,
   "id": "09026c09",
   "metadata": {},
   "outputs": [],
   "source": [
    "x_train,x_test,y_train,y_test = train_test_split(x , y, test_size=0.3, random_state=2)"
   ]
  },
  {
   "cell_type": "markdown",
   "id": "05ae3374",
   "metadata": {},
   "source": [
    "#### Setelah dilakukan Splitting maka untuk training memiliki 207 data, Untuk testing memiliki 89 data"
   ]
  },
  {
   "cell_type": "code",
   "execution_count": 42,
   "id": "cd132e7c",
   "metadata": {},
   "outputs": [
    {
     "data": {
      "text/plain": [
       "((207, 5), (89, 5), (207,), (89,))"
      ]
     },
     "execution_count": 42,
     "metadata": {},
     "output_type": "execute_result"
    }
   ],
   "source": [
    "x_train.shape, x_test.shape, y_train.shape, y_test.shape"
   ]
  },
  {
   "cell_type": "code",
   "execution_count": 43,
   "id": "b9f37737",
   "metadata": {},
   "outputs": [
    {
     "data": {
      "text/plain": [
       "(      age  ejection_fraction  serum_creatinine  serum_sodium  time\n",
       " 130  53.0                 60               0.7           138   106\n",
       " 66   42.0                 15               1.3           136    65\n",
       " 15   82.0                 50               1.3           136    13\n",
       " 116  60.0                 60               0.7           136    94\n",
       " 19   48.0                 55               1.9           121    15\n",
       " ..    ...                ...               ...           ...   ...\n",
       " 77   42.0                 40               1.2           140    74\n",
       " 23   53.0                 60               0.8           135    22\n",
       " 74   69.0                 20               1.2           134    73\n",
       " 16   87.0                 38               0.9           140    14\n",
       " 170  51.0                 35               1.5           136   145\n",
       " \n",
       " [207 rows x 5 columns],\n",
       "       age  ejection_fraction  serum_creatinine  serum_sodium  time\n",
       " 178  63.0                 60              1.20           145   147\n",
       " 231  70.0                 35              1.10           134   208\n",
       " 226  58.0                 25              1.30           132   205\n",
       " 8    65.0                 65              1.50           138    10\n",
       " 174  65.0                 35              0.90           137   146\n",
       " ..    ...                ...               ...           ...   ...\n",
       " 285  55.0                 40              1.20           135   250\n",
       " 156  52.0                 35              1.40           136   120\n",
       " 73   65.0                 50              1.30           137    72\n",
       " 278  50.0                 30              0.70           136   246\n",
       " 220  73.0                 20              1.83           134   198\n",
       " \n",
       " [89 rows x 5 columns])"
      ]
     },
     "execution_count": 43,
     "metadata": {},
     "output_type": "execute_result"
    }
   ],
   "source": [
    "x_train, x_test"
   ]
  },
  {
   "cell_type": "markdown",
   "id": "9bc3bdd6",
   "metadata": {},
   "source": [
    "### Melakukan Feature Scaling dengan StandardScaler\n",
    "#### Dimana standarscaler membantu kita melakukan standarisasi distribusi yang dimana data per kolum nya akan memiliki nilai rata-rata 0 dan standard deviasi 1"
   ]
  },
  {
   "cell_type": "code",
   "execution_count": 44,
   "id": "08e09fdf",
   "metadata": {},
   "outputs": [
    {
     "data": {
      "text/html": [
       "<div>\n",
       "<style scoped>\n",
       "    .dataframe tbody tr th:only-of-type {\n",
       "        vertical-align: middle;\n",
       "    }\n",
       "\n",
       "    .dataframe tbody tr th {\n",
       "        vertical-align: top;\n",
       "    }\n",
       "\n",
       "    .dataframe thead th {\n",
       "        text-align: right;\n",
       "    }\n",
       "</style>\n",
       "<table border=\"1\" class=\"dataframe\">\n",
       "  <thead>\n",
       "    <tr style=\"text-align: right;\">\n",
       "      <th></th>\n",
       "      <th>count</th>\n",
       "      <th>mean</th>\n",
       "      <th>std</th>\n",
       "      <th>min</th>\n",
       "      <th>25%</th>\n",
       "      <th>50%</th>\n",
       "      <th>75%</th>\n",
       "      <th>max</th>\n",
       "    </tr>\n",
       "  </thead>\n",
       "  <tbody>\n",
       "    <tr>\n",
       "      <th>age</th>\n",
       "      <td>207.0</td>\n",
       "      <td>59.789053</td>\n",
       "      <td>12.053416</td>\n",
       "      <td>40.0</td>\n",
       "      <td>50.0</td>\n",
       "      <td>60.0</td>\n",
       "      <td>69.50</td>\n",
       "      <td>95.0</td>\n",
       "    </tr>\n",
       "    <tr>\n",
       "      <th>ejection_fraction</th>\n",
       "      <td>207.0</td>\n",
       "      <td>37.913043</td>\n",
       "      <td>11.958349</td>\n",
       "      <td>14.0</td>\n",
       "      <td>30.0</td>\n",
       "      <td>38.0</td>\n",
       "      <td>45.00</td>\n",
       "      <td>70.0</td>\n",
       "    </tr>\n",
       "    <tr>\n",
       "      <th>serum_creatinine</th>\n",
       "      <td>207.0</td>\n",
       "      <td>1.456860</td>\n",
       "      <td>1.197771</td>\n",
       "      <td>0.5</td>\n",
       "      <td>0.9</td>\n",
       "      <td>1.1</td>\n",
       "      <td>1.45</td>\n",
       "      <td>9.4</td>\n",
       "    </tr>\n",
       "    <tr>\n",
       "      <th>serum_sodium</th>\n",
       "      <td>207.0</td>\n",
       "      <td>136.666667</td>\n",
       "      <td>4.344397</td>\n",
       "      <td>121.0</td>\n",
       "      <td>134.0</td>\n",
       "      <td>137.0</td>\n",
       "      <td>140.00</td>\n",
       "      <td>148.0</td>\n",
       "    </tr>\n",
       "    <tr>\n",
       "      <th>time</th>\n",
       "      <td>207.0</td>\n",
       "      <td>131.714976</td>\n",
       "      <td>79.447552</td>\n",
       "      <td>4.0</td>\n",
       "      <td>71.5</td>\n",
       "      <td>112.0</td>\n",
       "      <td>207.00</td>\n",
       "      <td>285.0</td>\n",
       "    </tr>\n",
       "  </tbody>\n",
       "</table>\n",
       "</div>"
      ],
      "text/plain": [
       "                   count        mean        std    min    25%    50%     75%  \\\n",
       "age                207.0   59.789053  12.053416   40.0   50.0   60.0   69.50   \n",
       "ejection_fraction  207.0   37.913043  11.958349   14.0   30.0   38.0   45.00   \n",
       "serum_creatinine   207.0    1.456860   1.197771    0.5    0.9    1.1    1.45   \n",
       "serum_sodium       207.0  136.666667   4.344397  121.0  134.0  137.0  140.00   \n",
       "time               207.0  131.714976  79.447552    4.0   71.5  112.0  207.00   \n",
       "\n",
       "                     max  \n",
       "age                 95.0  \n",
       "ejection_fraction   70.0  \n",
       "serum_creatinine     9.4  \n",
       "serum_sodium       148.0  \n",
       "time               285.0  "
      ]
     },
     "execution_count": 44,
     "metadata": {},
     "output_type": "execute_result"
    }
   ],
   "source": [
    "pd.DataFrame(x_train, columns=list(x.columns)).describe().T"
   ]
  },
  {
   "cell_type": "code",
   "execution_count": 45,
   "id": "5ded59c6",
   "metadata": {},
   "outputs": [],
   "source": [
    "sc = StandardScaler()\n",
    "x_train = sc.fit_transform(x_train)\n",
    "x_test = sc.fit_transform(x_test)"
   ]
  },
  {
   "cell_type": "code",
   "execution_count": 46,
   "id": "215335d3",
   "metadata": {},
   "outputs": [
    {
     "data": {
      "text/plain": [
       "(array([[-0.56461266,  1.85146802, -0.63342234,  0.30765274, -0.32445701],\n",
       "        [-1.47942936, -1.92071584, -0.13127736, -0.15382637, -0.84177181],\n",
       "        [ 1.84717684,  1.01320494, -0.13127736, -0.15382637, -1.49787838],\n",
       "        ...,\n",
       "        [ 0.76602982, -1.5015843 , -0.21496819, -0.61530547, -0.74083233],\n",
       "        [ 2.26300262,  0.00728924, -0.46604068,  0.76913184, -1.48526094],\n",
       "        [-0.73094297, -0.24418968,  0.03610431, -0.15382637,  0.16762292]]),\n",
       " array([[-0.03613616,  2.03407584, -0.06744896,  2.48671643,  0.25577636],\n",
       "        [ 0.58922024, -0.30364045, -0.28814592, -0.94215031,  1.09380283],\n",
       "        [-0.48281931, -1.23872697,  0.153248  , -1.56558062,  1.05258841],\n",
       "        [ 0.14253709,  2.50161909,  0.59464192,  0.30471032, -1.62634866],\n",
       "        [ 0.14253709, -0.30364045, -0.72953984, -0.00700484,  0.24203822],\n",
       "        [ 1.92926968,  0.63144606,  3.90509633, -1.56558062, -1.37906216],\n",
       "        [-0.48281931, -1.23872697, -0.06744896, -0.00700484,  0.57175355],\n",
       "        [ 0.14253709, -1.23872697, -0.06744896, -0.31871999,  0.35194333],\n",
       "        [ 0.32121035, -0.0231145 , -0.06744896, -1.25386547,  1.60211396],\n",
       "        [-0.21480942,  0.16390281, -0.72953984,  1.2398558 , -0.25253478],\n",
       "        [-1.28684897, -0.77118371, -0.50884288,  0.30471032, -1.59887238],\n",
       "        [ 1.30391327,  1.09898932,  0.37394496,  0.30471032,  0.87399261],\n",
       "        [ 2.37595283,  1.09898932, -0.50884288, -0.94215031, -1.35158588],\n",
       "        [-1.10817572,  0.16390281, -0.72953984, -0.94215031,  1.58837582],\n",
       "        [-0.7508292 ,  0.63144606, -0.72953984,  0.92814064, -0.74710777],\n",
       "        [ 0.14253709,  0.16390281, -0.50884288, -0.31871999,  1.1212791 ],\n",
       "        [-0.30414605,  0.16390281, -0.50884288,  1.2398558 ,  0.80530191],\n",
       "        [-0.03613616, -1.23872697,  0.153248  , -0.94215031, -0.62346452],\n",
       "        [-0.30414605, -1.23872697,  1.03603584, -0.63043515, -0.63720266],\n",
       "        [-0.39348268,  0.63144606, -0.28814592,  0.61642548, -0.10141525],\n",
       "        [-1.19751235, -1.70627023,  1.47742976, -0.00700484, -1.66756307],\n",
       "        [-0.7508292 ,  0.63144606,  0.153248  , -0.00700484, -0.55477383],\n",
       "        [ 2.73329934, -0.0231145 ,  1.32294189, -0.94215031, -1.3928003 ],\n",
       "        [-1.01883909,  0.16390281, -0.72953984,  0.92814064,  0.24203822],\n",
       "        [ 0.14253709,  2.03407584, -0.72953984, -0.00700484, -0.29374919],\n",
       "        [ 0.58922024,  0.63144606, -0.06744896,  0.61642548, -1.31037146],\n",
       "        [ 0.05320046,  2.03407584,  0.59464192, -0.63043515,  0.62670611],\n",
       "        [ 0.14253709, -0.30364045, -0.28814592,  1.55157095,  1.75323349],\n",
       "        [ 1.03590339,  0.16390281, -0.11158835, -0.00700484, -0.29374919],\n",
       "        [-1.64419549, -0.30364045, -0.9502368 ,  0.61642548, -0.10141525],\n",
       "        [-1.19751235, -0.30364045, -0.11158835, -0.00700484, -0.12889153],\n",
       "        [ 0.58922024, -1.23872697, -0.06744896,  1.55157095, -0.85701288],\n",
       "        [ 0.85723013,  0.16390281, -0.72953984,  1.2398558 ,  1.16249352],\n",
       "        [ 0.7678935 , -1.23872697, -0.06744896, -0.94215031,  1.08006469],\n",
       "        [-0.30414605,  0.63144606, -0.50884288, -1.25386547, -0.66467894],\n",
       "        [-0.30414605, -0.30364045, -0.72953984, -0.31871999, -0.18384408],\n",
       "        [ 1.92926968,  1.09898932,  0.153248  , -0.94215031, -0.10141525],\n",
       "        [ 0.7678935 , -0.77118371,  1.03603584,  0.30471032, -0.55477383],\n",
       "        [-0.21480942, -0.77118371, -1.17093376, -0.31871999, -0.33496361],\n",
       "        [ 0.05320046,  2.03407584, -0.50884288, -0.00700484, -0.21132036],\n",
       "        [-1.64419549, -0.77118371, -0.28814592, -0.00700484, -1.61261052],\n",
       "        [-0.48281931, -1.23872697, -0.50884288,  0.30471032,  1.05258841],\n",
       "        [ 1.48258653, -0.0231145 ,  0.153248  , -0.63043515,  0.022228  ],\n",
       "        [-0.92950246, -0.30364045,  4.78788417,  2.48671643, -0.32122547],\n",
       "        [-0.30414605,  2.03407584, -0.50884288,  0.30471032,  0.24203822],\n",
       "        [ 0.58922024,  2.03407584, -0.9502368 ,  0.92814064, -0.74710777],\n",
       "        [-1.19751235,  0.16390281, -0.9502368 ,  1.2398558 ,  1.67080466],\n",
       "        [-0.7508292 ,  0.63144606, -0.11158835, -0.00700484,  1.13501724],\n",
       "        [ 0.14253709,  0.16390281, -0.50884288,  0.30471032,  0.15960939],\n",
       "        [-1.19751235, -1.23872697, -0.50884288, -0.31871999, -0.11515339],\n",
       "        [-0.03613616,  2.03407584,  0.153248  ,  2.48671643, -0.29374919],\n",
       "        [ 1.03590339,  0.63144606, -0.11158835, -0.00700484, -0.56851197],\n",
       "        [-0.12547279, -1.23872697, -0.72953984,  0.92814064, -1.62634866],\n",
       "        [-0.7508292 , -0.30364045, -0.28814592, -0.00700484, -0.67841708],\n",
       "        [ 0.7678935 , -1.23872697,  1.03603584,  0.61642548, -0.23879664],\n",
       "        [ 0.7678935 , -1.23872697, -0.50884288,  0.92814064, -0.87075102],\n",
       "        [-0.30414605,  2.03407584,  0.59464192, -0.63043515, -0.45860686],\n",
       "        [-0.92950246,  2.03407584, -1.17093376, -1.25386547,  0.07718056],\n",
       "        [-0.7508292 , -0.30364045, -0.06744896, -0.63043515, -0.52729755],\n",
       "        [ 1.30391327,  0.16390281, -1.17093376, -0.00700484,  0.80530191],\n",
       "        [-0.30414605, -0.0231145 ,  2.13952065, -1.56558062, -1.1455138 ],\n",
       "        [-1.19751235, -1.70627023, -0.9502368 ,  0.61642548,  0.24203822],\n",
       "        [ 1.03590339, -0.77118371,  1.32294189, -0.94215031, -1.44775285],\n",
       "        [ 0.14253709, -1.23872697, -0.28814592,  1.2398558 , -0.56851197],\n",
       "        [-0.84016583, -0.0231145 ,  1.2567328 , -0.94215031,  1.16249352],\n",
       "        [-0.30414605, -0.0231145 , -1.06058528,  0.92814064, -0.45860686],\n",
       "        [ 0.14253709, -0.30364045, -0.9502368 , -0.31871999, -0.11515339],\n",
       "        [ 0.85723013, -0.77118371, -0.11158835,  1.55157095,  0.70913494],\n",
       "        [-0.03613616,  0.63144606, -1.17093376, -0.00700484,  0.79156377],\n",
       "        [-1.19751235,  0.63144606, -0.50884288, -1.25386547,  1.1899698 ],\n",
       "        [ 2.82263597, -0.77118371,  1.69812672, -1.56558062, -1.0768231 ],\n",
       "        [ 2.37595283,  0.16390281,  1.91882369, -1.56558062, -1.65382493],\n",
       "        [-1.64419549, -0.0231145 , -0.11158835, -0.00700484,  0.77782563],\n",
       "        [-0.92950246,  0.16390281, -0.06744896, -2.18901094,  1.17623166],\n",
       "        [-1.01883909, -0.0231145 , -0.50884288,  0.92814064,  1.78070977],\n",
       "        [-1.01883909, -0.77118371, -1.17093376, -0.31871999, -0.2250585 ],\n",
       "        [-0.21480942, -0.0231145 , -0.06744896,  1.2398558 ,  1.49220885],\n",
       "        [-0.7508292 , -0.30364045, -0.50884288,  0.92814064,  1.06632655],\n",
       "        [ 1.48258653, -0.0231145 ,  1.47742976,  2.17500127, -1.44775285],\n",
       "        [-0.7508292 , -0.0231145 ,  0.153248  , -0.31871999,  1.6158521 ],\n",
       "        [-0.03613616, -0.0231145 , -0.28814592, -1.25386547, -0.55477383],\n",
       "        [ 0.14253709, -0.0231145 , -0.28814592,  0.30471032,  1.67080466],\n",
       "        [ 0.14253709, -0.77118371,  0.81533888, -0.31871999, -1.48896727],\n",
       "        [ 1.66125979, -0.77118371, -0.06744896, -1.56558062, -1.40653844],\n",
       "        [-0.7508292 ,  0.16390281, -0.06744896, -0.63043515,  1.67080466],\n",
       "        [-1.01883909, -0.30364045,  0.37394496, -0.31871999, -0.11515339],\n",
       "        [ 0.14253709,  1.09898932,  0.153248  , -0.00700484, -0.77458405],\n",
       "        [-1.19751235, -0.77118371, -1.17093376, -0.31871999,  1.6158521 ],\n",
       "        [ 0.85723013, -1.70627023,  1.32294189, -0.94215031,  0.95642144]]))"
      ]
     },
     "execution_count": 46,
     "metadata": {},
     "output_type": "execute_result"
    }
   ],
   "source": [
    "x_train, x_test"
   ]
  },
  {
   "cell_type": "code",
   "execution_count": 47,
   "id": "1ca502fd",
   "metadata": {},
   "outputs": [
    {
     "data": {
      "text/html": [
       "<div>\n",
       "<style scoped>\n",
       "    .dataframe tbody tr th:only-of-type {\n",
       "        vertical-align: middle;\n",
       "    }\n",
       "\n",
       "    .dataframe tbody tr th {\n",
       "        vertical-align: top;\n",
       "    }\n",
       "\n",
       "    .dataframe thead th {\n",
       "        text-align: right;\n",
       "    }\n",
       "</style>\n",
       "<table border=\"1\" class=\"dataframe\">\n",
       "  <thead>\n",
       "    <tr style=\"text-align: right;\">\n",
       "      <th></th>\n",
       "      <th>count</th>\n",
       "      <th>mean</th>\n",
       "      <th>std</th>\n",
       "      <th>min</th>\n",
       "      <th>25%</th>\n",
       "      <th>50%</th>\n",
       "      <th>75%</th>\n",
       "      <th>max</th>\n",
       "    </tr>\n",
       "  </thead>\n",
       "  <tbody>\n",
       "    <tr>\n",
       "      <th>age</th>\n",
       "      <td>207.0</td>\n",
       "      <td>4.730515e-16</td>\n",
       "      <td>1.002424</td>\n",
       "      <td>-1.645760</td>\n",
       "      <td>-0.814108</td>\n",
       "      <td>0.017543</td>\n",
       "      <td>0.807612</td>\n",
       "      <td>2.928324</td>\n",
       "    </tr>\n",
       "    <tr>\n",
       "      <th>ejection_fraction</th>\n",
       "      <td>207.0</td>\n",
       "      <td>1.887915e-16</td>\n",
       "      <td>1.002424</td>\n",
       "      <td>-2.004542</td>\n",
       "      <td>-0.663321</td>\n",
       "      <td>0.007289</td>\n",
       "      <td>0.594073</td>\n",
       "      <td>2.689731</td>\n",
       "    </tr>\n",
       "    <tr>\n",
       "      <th>serum_creatinine</th>\n",
       "      <td>207.0</td>\n",
       "      <td>-1.973730e-16</td>\n",
       "      <td>1.002424</td>\n",
       "      <td>-0.800804</td>\n",
       "      <td>-0.466041</td>\n",
       "      <td>-0.298659</td>\n",
       "      <td>-0.005741</td>\n",
       "      <td>6.647680</td>\n",
       "    </tr>\n",
       "    <tr>\n",
       "      <th>serum_sodium</th>\n",
       "      <td>207.0</td>\n",
       "      <td>2.183439e-15</td>\n",
       "      <td>1.002424</td>\n",
       "      <td>-3.614920</td>\n",
       "      <td>-0.615305</td>\n",
       "      <td>0.076913</td>\n",
       "      <td>0.769132</td>\n",
       "      <td>2.615048</td>\n",
       "    </tr>\n",
       "    <tr>\n",
       "      <th>time</th>\n",
       "      <td>207.0</td>\n",
       "      <td>-9.439577e-17</td>\n",
       "      <td>1.002424</td>\n",
       "      <td>-1.611435</td>\n",
       "      <td>-0.759758</td>\n",
       "      <td>-0.248752</td>\n",
       "      <td>0.949904</td>\n",
       "      <td>1.934064</td>\n",
       "    </tr>\n",
       "  </tbody>\n",
       "</table>\n",
       "</div>"
      ],
      "text/plain": [
       "                   count          mean       std       min       25%  \\\n",
       "age                207.0  4.730515e-16  1.002424 -1.645760 -0.814108   \n",
       "ejection_fraction  207.0  1.887915e-16  1.002424 -2.004542 -0.663321   \n",
       "serum_creatinine   207.0 -1.973730e-16  1.002424 -0.800804 -0.466041   \n",
       "serum_sodium       207.0  2.183439e-15  1.002424 -3.614920 -0.615305   \n",
       "time               207.0 -9.439577e-17  1.002424 -1.611435 -0.759758   \n",
       "\n",
       "                        50%       75%       max  \n",
       "age                0.017543  0.807612  2.928324  \n",
       "ejection_fraction  0.007289  0.594073  2.689731  \n",
       "serum_creatinine  -0.298659 -0.005741  6.647680  \n",
       "serum_sodium       0.076913  0.769132  2.615048  \n",
       "time              -0.248752  0.949904  1.934064  "
      ]
     },
     "execution_count": 47,
     "metadata": {},
     "output_type": "execute_result"
    }
   ],
   "source": [
    "pd.DataFrame(x_train, columns=list(x.columns)).describe().T"
   ]
  },
  {
   "cell_type": "markdown",
   "id": "67bcf0c3",
   "metadata": {},
   "source": [
    "### Training Model Menggunakan Logistic Regression"
   ]
  },
  {
   "cell_type": "code",
   "execution_count": 48,
   "id": "ae395055",
   "metadata": {},
   "outputs": [
    {
     "data": {
      "text/plain": [
       "LogisticRegression(max_iter=10000)"
      ]
     },
     "execution_count": 48,
     "metadata": {},
     "output_type": "execute_result"
    }
   ],
   "source": [
    "lr=LogisticRegression(max_iter=10000)\n",
    "lr.fit(x_train,y_train)"
   ]
  },
  {
   "cell_type": "markdown",
   "id": "1d9ab873",
   "metadata": {},
   "source": [
    "### Melakukan Prediksi dan Mencetak Confusion matrix"
   ]
  },
  {
   "cell_type": "code",
   "execution_count": 49,
   "id": "6c9c0ccf",
   "metadata": {},
   "outputs": [
    {
     "name": "stdout",
     "output_type": "stream",
     "text": [
      "Akurasi : 91.01%\n"
     ]
    },
    {
     "data": {
      "image/png": "[encoded data removed]",
      "text/plain": [
       "<Figure size 432x288 with 2 Axes>"
      ]
     },
     "metadata": {
      "needs_background": "light"
     },
     "output_type": "display_data"
    }
   ],
   "source": [
    "predict=lr.predict(x_test)\n",
    "acc=accuracy_score(y_test,predict)\n",
    "print(\"Akurasi :\", \"{:.2f}%\".format(100*acc))\n",
    "plot_confusion_matrix(lr, x_test, y_test)\n",
    "plt.xticks(range(2), [\"Sehat\",\"Gagal Jantung\"], fontsize=16)\n",
    "plt.yticks(range(2), [\"Sehat\",\"Gagal Jantung\"], fontsize=16)\n",
    "plt.show()"
   ]
  },
  {
   "cell_type": "markdown",
   "id": "1d5f7c73",
   "metadata": {},
   "source": [
    "### Hasil yang didapat menunjukan akurasi prediksi mencapai 91,01% dan TP mencapai 61 data, TN 20 data, FP 4 data dan FN 4 data"
   ]
  },
  {
   "cell_type": "markdown",
   "id": "f548a305",
   "metadata": {},
   "source": [
    "### Classification Report"
   ]
  },
  {
   "cell_type": "code",
   "execution_count": 50,
   "id": "23e0609a",
   "metadata": {},
   "outputs": [
    {
     "name": "stdout",
     "output_type": "stream",
     "text": [
      "              precision    recall  f1-score   support\n",
      "\n",
      "           0       0.94      0.94      0.94        65\n",
      "           1       0.83      0.83      0.83        24\n",
      "\n",
      "    accuracy                           0.91        89\n",
      "   macro avg       0.89      0.89      0.89        89\n",
      "weighted avg       0.91      0.91      0.91        89\n",
      "\n"
     ]
    }
   ],
   "source": [
    "print(classification_report(y_test, predict))"
   ]
  },
  {
   "cell_type": "markdown",
   "id": "0adc133a",
   "metadata": {},
   "source": [
    "### Save Model"
   ]
  },
  {
   "cell_type": "code",
   "execution_count": 51,
   "id": "58d8b1e3",
   "metadata": {
    "scrolled": true
   },
   "outputs": [
    {
     "data": {
      "text/plain": [
       "['heart_attack.pkl']"
      ]
     },
     "execution_count": 51,
     "metadata": {},
     "output_type": "execute_result"
    }
   ],
   "source": [
    "joblib_file = \"heart_attack.pkl\"  \n",
    "joblib.dump(lr, joblib_file)"
   ]
  },
  {
   "cell_type": "code",
   "execution_count": 54,
   "id": "ba0ee3f1",
   "metadata": {},
   "outputs": [
    {
     "data": {
      "text/plain": [
       "['std_scaler.bin']"
      ]
     },
     "execution_count": 54,
     "metadata": {},
     "output_type": "execute_result"
    }
   ],
   "source": [
    "joblib.dump(sc, 'std_scaler.bin', compress=True)"
   ]
  },
  {
   "cell_type": "markdown",
   "id": "9df5b174",
   "metadata": {},
   "source": [
    "### Load Model and Testing Predict"
   ]
  },
  {
   "cell_type": "code",
   "execution_count": 52,
   "id": "bfcca4f5",
   "metadata": {},
   "outputs": [
    {
     "data": {
      "text/plain": [
       "LogisticRegression(max_iter=10000)"
      ]
     },
     "execution_count": 52,
     "metadata": {},
     "output_type": "execute_result"
    }
   ],
   "source": [
    "lr_load = joblib.load('heart_attack.pkl')\n",
    "\n",
    "\n",
    "lr_load"
   ]
  },
  {
   "cell_type": "code",
   "execution_count": 58,
   "id": "cfa60d52",
   "metadata": {
    "scrolled": true
   },
   "outputs": [
    {
     "name": "stdout",
     "output_type": "stream",
     "text": [
      "Testing Acc score: 91.01 %\n"
     ]
    },
    {
     "data": {
      "text/plain": [
       "array([0, 0, 0, 0, 0, 1, 0, 0, 0, 0, 1, 0, 1, 0, 0, 0, 0, 1, 1, 0, 1, 0,\n",
       "       1, 0, 0, 1, 0, 0, 0, 0, 0, 1, 0, 0, 0, 0, 0, 1, 0, 0, 1, 0, 0, 1,\n",
       "       0, 0, 0, 0, 0, 0, 0, 0, 1, 0, 1, 1, 0, 0, 0, 0, 1, 0, 1, 1, 0, 0,\n",
       "       0, 0, 0, 0, 1, 1, 0, 0, 0, 0, 0, 0, 1, 0, 0, 0, 1, 1, 0, 0, 0, 0,\n",
       "       1])"
      ]
     },
     "execution_count": 58,
     "metadata": {},
     "output_type": "execute_result"
    }
   ],
   "source": [
    "testacc = lr_load.score(x_test, y_test)  \n",
    "print(\"Testing Acc score: {0:.2f} %\".format(100 * testacc))  \n",
    "\n",
    "testpredict = lr_load.predict(x_test)  \n",
    "\n",
    "testpredict"
   ]
  },
  {
   "cell_type": "code",
   "execution_count": 55,
   "id": "573e0c96",
   "metadata": {},
   "outputs": [],
   "source": [
    "x_test1=sc.inverse_transform(x_test)"
   ]
  },
  {
   "cell_type": "code",
   "execution_count": 56,
   "id": "f3fae3af",
   "metadata": {},
   "outputs": [
    {
     "data": {
      "text/plain": [
       "array([[ 63.  ,  60.  ,   1.2 , 145.  , 147.  ],\n",
       "       [ 70.  ,  35.  ,   1.1 , 134.  , 208.  ],\n",
       "       [ 58.  ,  25.  ,   1.3 , 132.  , 205.  ],\n",
       "       [ 65.  ,  65.  ,   1.5 , 138.  ,  10.  ],\n",
       "       [ 65.  ,  35.  ,   0.9 , 137.  , 146.  ],\n",
       "       [ 85.  ,  45.  ,   3.  , 132.  ,  28.  ],\n",
       "       [ 58.  ,  25.  ,   1.2 , 137.  , 170.  ],\n",
       "       [ 65.  ,  25.  ,   1.2 , 136.  , 154.  ],\n",
       "       [ 67.  ,  38.  ,   1.2 , 133.  , 245.  ],\n",
       "       [ 61.  ,  40.  ,   0.9 , 141.  , 110.  ],\n",
       "       [ 49.  ,  30.  ,   1.  , 138.  ,  12.  ],\n",
       "       [ 78.  ,  50.  ,   1.4 , 138.  , 192.  ],\n",
       "       [ 90.  ,  50.  ,   1.  , 134.  ,  30.  ],\n",
       "       [ 51.  ,  40.  ,   0.9 , 134.  , 244.  ],\n",
       "       [ 55.  ,  45.  ,   0.9 , 140.  ,  74.  ],\n",
       "       [ 65.  ,  40.  ,   1.  , 136.  , 210.  ],\n",
       "       [ 60.  ,  40.  ,   1.  , 141.  , 187.  ],\n",
       "       [ 63.  ,  25.  ,   1.3 , 134.  ,  83.  ],\n",
       "       [ 60.  ,  25.  ,   1.7 , 135.  ,  82.  ],\n",
       "       [ 59.  ,  45.  ,   1.1 , 139.  , 121.  ],\n",
       "       [ 50.  ,  20.  ,   1.9 , 137.  ,   7.  ],\n",
       "       [ 55.  ,  45.  ,   1.3 , 137.  ,  88.  ],\n",
       "       [ 94.  ,  38.  ,   1.83, 134.  ,  27.  ],\n",
       "       [ 52.  ,  40.  ,   0.9 , 140.  , 146.  ],\n",
       "       [ 65.  ,  60.  ,   0.9 , 137.  , 107.  ],\n",
       "       [ 70.  ,  45.  ,   1.2 , 139.  ,  33.  ],\n",
       "       [ 64.  ,  60.  ,   1.5 , 135.  , 174.  ],\n",
       "       [ 65.  ,  35.  ,   1.1 , 142.  , 256.  ],\n",
       "       [ 75.  ,  40.  ,   1.18, 137.  , 107.  ],\n",
       "       [ 45.  ,  35.  ,   0.8 , 139.  , 121.  ],\n",
       "       [ 50.  ,  35.  ,   1.18, 137.  , 119.  ],\n",
       "       [ 70.  ,  25.  ,   1.2 , 142.  ,  66.  ],\n",
       "       [ 73.  ,  40.  ,   0.9 , 141.  , 213.  ],\n",
       "       [ 72.  ,  25.  ,   1.2 , 134.  , 207.  ],\n",
       "       [ 60.  ,  45.  ,   1.  , 133.  ,  80.  ],\n",
       "       [ 60.  ,  35.  ,   0.9 , 136.  , 115.  ],\n",
       "       [ 85.  ,  50.  ,   1.3 , 134.  , 121.  ],\n",
       "       [ 72.  ,  30.  ,   1.7 , 138.  ,  88.  ],\n",
       "       [ 61.  ,  30.  ,   0.7 , 136.  , 104.  ],\n",
       "       [ 64.  ,  60.  ,   1.  , 137.  , 113.  ],\n",
       "       [ 45.  ,  30.  ,   1.1 , 137.  ,  11.  ],\n",
       "       [ 58.  ,  25.  ,   1.  , 138.  , 205.  ],\n",
       "       [ 80.  ,  38.  ,   1.3 , 135.  , 130.  ],\n",
       "       [ 53.  ,  35.  ,   3.4 , 145.  , 105.  ],\n",
       "       [ 60.  ,  60.  ,   1.  , 138.  , 146.  ],\n",
       "       [ 70.  ,  60.  ,   0.8 , 140.  ,  74.  ],\n",
       "       [ 50.  ,  40.  ,   0.8 , 141.  , 250.  ],\n",
       "       [ 55.  ,  45.  ,   1.18, 137.  , 211.  ],\n",
       "       [ 65.  ,  40.  ,   1.  , 138.  , 140.  ],\n",
       "       [ 50.  ,  25.  ,   1.  , 136.  , 120.  ],\n",
       "       [ 63.  ,  60.  ,   1.3 , 145.  , 107.  ],\n",
       "       [ 75.  ,  45.  ,   1.18, 137.  ,  87.  ],\n",
       "       [ 62.  ,  25.  ,   0.9 , 140.  ,  10.  ],\n",
       "       [ 55.  ,  35.  ,   1.1 , 137.  ,  79.  ],\n",
       "       [ 72.  ,  25.  ,   1.7 , 139.  , 111.  ],\n",
       "       [ 72.  ,  25.  ,   1.  , 140.  ,  65.  ],\n",
       "       [ 60.  ,  60.  ,   1.5 , 135.  ,  95.  ],\n",
       "       [ 53.  ,  60.  ,   0.7 , 133.  , 134.  ],\n",
       "       [ 55.  ,  35.  ,   1.2 , 135.  ,  90.  ],\n",
       "       [ 78.  ,  40.  ,   0.7 , 137.  , 187.  ],\n",
       "       [ 60.  ,  38.  ,   2.2 , 132.  ,  45.  ],\n",
       "       [ 50.  ,  20.  ,   0.8 , 139.  , 146.  ],\n",
       "       [ 75.  ,  30.  ,   1.83, 134.  ,  23.  ],\n",
       "       [ 65.  ,  25.  ,   1.1 , 141.  ,  87.  ],\n",
       "       [ 54.  ,  38.  ,   1.8 , 134.  , 213.  ],\n",
       "       [ 60.  ,  38.  ,   0.75, 140.  ,  95.  ],\n",
       "       [ 65.  ,  35.  ,   0.8 , 136.  , 120.  ],\n",
       "       [ 73.  ,  30.  ,   1.18, 142.  , 180.  ],\n",
       "       [ 63.  ,  45.  ,   0.7 , 137.  , 186.  ],\n",
       "       [ 50.  ,  45.  ,   1.  , 133.  , 215.  ],\n",
       "       [ 95.  ,  30.  ,   2.  , 132.  ,  50.  ],\n",
       "       [ 90.  ,  40.  ,   2.1 , 132.  ,   8.  ],\n",
       "       [ 45.  ,  38.  ,   1.18, 137.  , 185.  ],\n",
       "       [ 53.  ,  40.  ,   1.2 , 130.  , 214.  ],\n",
       "       [ 52.  ,  38.  ,   1.  , 140.  , 258.  ],\n",
       "       [ 52.  ,  30.  ,   0.7 , 136.  , 112.  ],\n",
       "       [ 61.  ,  38.  ,   1.2 , 141.  , 237.  ],\n",
       "       [ 55.  ,  35.  ,   1.  , 140.  , 206.  ],\n",
       "       [ 80.  ,  38.  ,   1.9 , 144.  ,  23.  ],\n",
       "       [ 55.  ,  38.  ,   1.3 , 136.  , 246.  ],\n",
       "       [ 63.  ,  38.  ,   1.1 , 133.  ,  88.  ],\n",
       "       [ 65.  ,  38.  ,   1.1 , 138.  , 250.  ],\n",
       "       [ 65.  ,  30.  ,   1.6 , 136.  ,  20.  ],\n",
       "       [ 82.  ,  30.  ,   1.2 , 132.  ,  26.  ],\n",
       "       [ 55.  ,  40.  ,   1.2 , 135.  , 250.  ],\n",
       "       [ 52.  ,  35.  ,   1.4 , 136.  , 120.  ],\n",
       "       [ 65.  ,  50.  ,   1.3 , 137.  ,  72.  ],\n",
       "       [ 50.  ,  30.  ,   0.7 , 136.  , 246.  ],\n",
       "       [ 73.  ,  20.  ,   1.83, 134.  , 198.  ]])"
      ]
     },
     "execution_count": 56,
     "metadata": {},
     "output_type": "execute_result"
    }
   ],
   "source": [
    "x_test1"
   ]
  },
  {
   "cell_type": "code",
   "execution_count": null,
   "id": "6b65423b",
   "metadata": {},
   "outputs": [],
   "source": []
  }
 ],
 "metadata": {
  "kernelspec": {
   "display_name": "Python 3",
   "language": "python",
   "name": "python3"
  },
  "language_info": {
   "codemirror_mode": {
    "name": "ipython",
    "version": 3
   },
   "file_extension": ".py",
   "mimetype": "text/x-python",
   "name": "python",
   "nbconvert_exporter": "python",
   "pygments_lexer": "ipython3",
   "version": "3.9.4"
  }
 },
 "nbformat": 4,
 "nbformat_minor": 5
}
